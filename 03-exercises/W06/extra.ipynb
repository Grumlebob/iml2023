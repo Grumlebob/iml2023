{
  "metadata": {
    "kernelspec": {
      "display_name": "Python",
      "language": "python3",
      "name": "python3"
    },
    "language_info": {
      "codemirror_mode": {
        "name": "ipython",
        "version": 3
      },
      "file_extension": "py",
      "mimetype": "text/x-python",
      "name": "python"
    }
  },
  "nbformat": 4,
  "nbformat_minor": 5,
  "cells": [
    {
      "cell_type": "code",
      "id": "css_setup",
      "metadata": {
        "jupyter": {
          "source_hidden": true
        }
      },
      "source": [
        "import requests\n",
        "from IPython.core.display import HTML\n",
        "HTML(f\"\"\"\n",
        "<style>\n",
        "@import \"https://cdn.jsdelivr.net/npm/bulma@0.9.4/css/bulma.min.css\";\n",
        "</style>\n",
        "\"\"\")"
      ],
      "execution_count": 0,
      "outputs": []
    },
    {
      "cell_type": "markdown",
      "id": "BKPpUy_nS_CLsIG_TPv02",
      "metadata": {},
      "source": [
        "\n",
        "---\n",
        "**Task 1 (hard): Complex underlying true function _(optional)_👩‍💻💡**\n",
        "Repeat task 1-4 using the function: \n",
        "\n",
        "$$ f(x) = \\sin(x^2) + 1.5 $$\n",
        "as the data generating function, see code down below.\n",
        "1. How do the polynomial models perform, compared to the generated data following a linear trend? \n",
        "\n",
        "2. How does the complexity of the model (in terms of the degree of the polynomial features) affect its performance on the training and test data?\n",
        "\n",
        "3. Choose `np.sin`\n",
        "-based kernels for the least squares fit instead. How do the models perform now? \n",
        "\n",
        "4. Reflect upon potential issues with using Occams's Razor for model selection in machine learning related tasks. \n",
        "\n",
        "\n",
        "\n",
        "---"
      ]
    },
    {
      "cell_type": "code",
      "id": "D1_qSbO5NBtwmKwP5N2bg",
      "metadata": {},
      "source": [
        "# Generate synthetic data sin\n",
        "n_samples = 1000\n",
        "X = np.linspace(0, 10, n_samples).reshape(-1, 1)\n",
        "y_true =  np.sin(X.ravel()**2) + 1.5\n",
        "noise = np.random.normal(0, .1, n_samples)\n",
        "y = y_true + noise\n",
        "\n",
        "#... \n",
        "# repeat exercise here"
      ],
      "execution_count": 0,
      "outputs": []
    },
    {
      "cell_type": "markdown",
      "id": "6uCTcU4CjXl4Q89wxkGbA",
      "metadata": {},
      "source": [
        ""
      ]
    }
  ]
}