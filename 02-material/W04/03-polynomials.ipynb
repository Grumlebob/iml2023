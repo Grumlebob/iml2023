{
  "metadata": {
    "kernelspec": {
      "display_name": "Python",
      "language": "python3",
      "name": "python3"
    },
    "language_info": {
      "codemirror_mode": {
        "name": "ipython",
        "version": 3
      },
      "file_extension": "py",
      "mimetype": "text/x-python",
      "name": "python"
    }
  },
  "nbformat": 4,
  "nbformat_minor": 5,
  "cells": [
    {
      "cell_type": "code",
      "id": "css_setup",
      "metadata": {
        "jupyter": {
          "source_hidden": true
        }
      },
      "source": [
        "import requests\n",
        "from IPython.core.display import HTML\n",
        "HTML(f\"\"\"\n",
        "<style>\n",
        "@import \"https://cdn.jsdelivr.net/npm/bulma@0.9.4/css/bulma.min.css\";\n",
        "</style>\n",
        "\"\"\")"
      ],
      "execution_count": 0,
      "outputs": []
    },
    {
      "cell_type": "markdown",
      "id": "P7eDjzwpI0_Hvd1REaP_w",
      "metadata": {},
      "source": [
        "# Polynomial models\n",
        "In this exercise you will implement a method to estimate the model parameters of 2-nd and 3-rd order polynomials and use these models to predict a label for new datapoints. After completing this exercise, the method extends to n-th order polynomials in a fairly straightforward manner. The following topics will be covered:\n",
        "- Identifying model parameters\n",
        "- Constructing the design matrix\n",
        "- Identifying model weights\n",
        "- Predicting a label for new data points\n",
        "\n",
        "\n",
        "<article class=\"message\">\n",
        "    <div class=\"message-body\">\n",
        "        <strong>List of individual tasks</strong>\n",
        "        <ul style=\"list-style: none;\">\n",
        "            <li>\n",
        "            <a href=\"#loading7\">Task 1: Identifying paramters</a>\n",
        "            </li>\n",
        "            <li>\n",
        "            <a href=\"#loading8\">Task 2: Constructing the design matrix</a>\n",
        "            </li>\n",
        "            <li>\n",
        "            <a href=\"#loading9\">Task 3: Inverting the design matrix</a>\n",
        "            </li>\n",
        "            <li>\n",
        "            <a href=\"#loading10\">Task 4: Plotting</a>\n",
        "            </li>\n",
        "            <li>\n",
        "            <a href=\"#loading10130\">Task 5: Making predictions</a>\n",
        "            </li>\n",
        "            <li>\n",
        "            <a href=\"#loading11\">Task 6: Third order polynomials</a>\n",
        "            </li>\n",
        "            <li>\n",
        "            <a href=\"#loading13\">Task 7: Plotting</a>\n",
        "            </li>\n",
        "            <li>\n",
        "            <a href=\"#loading100\">Task 8: Making predictions</a>\n",
        "            </li>\n",
        "        </ul>\n",
        "    </div>\n",
        "</article>\n",
        "\n",
        "\n",
        "---\n",
        "**Task 0 (easy): Finishing in-class💡**\n",
        "1. Please finish all of the tasks from the in-class exercise\n",
        " before progressing to the next parts. \n",
        "\n",
        "\n",
        "---## 2nd-order Polynomial models\n",
        "Run the cell below to load libraries and construct the datasets:\n",
        ""
      ]
    },
    {
      "cell_type": "code",
      "id": "qHH4zZApVO5Gw04XOEGdq",
      "metadata": {},
      "source": [
        "import numpy as np\n",
        "import matplotlib.pyplot as plt\n",
        "\n",
        "quadratic_dataset_1 = np.array([[1, 2], \n",
        "                                [2, 3], \n",
        "                                [3, 6]])\n",
        "\n",
        "quadratic_dataset_2 = np.array([[9, 3], \n",
        "                                [7, 5], \n",
        "                                [1, 9]])\n",
        "\n",
        "quadratic_dataset_3 = np.array([[8, 4], \n",
        "                                [10, 5], \n",
        "                                [3, 1]])"
      ],
      "execution_count": 0,
      "outputs": []
    },
    {
      "cell_type": "markdown",
      "id": "mnXSeu2xNjQ1UAEkM7vXr",
      "metadata": {},
      "source": [
        "\n",
        "---\n",
        "**Task 1 (easy): Identifying paramters👩‍💻**\n",
        "1. Identify the inputs and the labels for each dataset.\n",
        "2. Complete the `separate_inputs_labels`\n",
        " function below. The function should take a dataset as input and return the inputs and labels separated into separate variables. The function should output matrices `X_quadratic`\n",
        " and arrays `y_quadratic`\n",
        ".\n",
        "\n",
        "\n",
        "---"
      ]
    },
    {
      "cell_type": "code",
      "id": "Njin9kH-rwl4qUvFv8Onz",
      "metadata": {},
      "source": [
        "def separate_inputs_labels(dataset):\n",
        "    \"\"\"\n",
        "    This function takes a dataset as input and returns the inputs and labels.\n",
        "    \n",
        "    Parameters:\n",
        "    dataset (numpy array): The dataset to be separated.\n",
        "    \n",
        "    Returns:\n",
        "    X_quadratic (numpy array): The input matrix.\n",
        "    y_quadratic (numpy array): The labels array.\n",
        "    \"\"\"\n",
        "    \n",
        "    ...\n",
        "    return X_quadratic, y_quadratic\n",
        "\n",
        "# Applying the function to each quadratic dataset\n",
        "X1_quadratic, y1_quadratic = separate_inputs_labels(quadratic_dataset_1)\n",
        "X2_quadratic, y2_quadratic = separate_inputs_labels(quadratic_dataset_2)\n",
        "X3_quadratic, y3_quadratic = separate_inputs_labels(quadratic_dataset_3)\n",
        "\n",
        "print(\"X1_quadratic: \\n\", X1_quadratic)\n",
        "print(\"y1_quadratic: \\n\", y1_quadratic)"
      ],
      "execution_count": 0,
      "outputs": []
    },
    {
      "cell_type": "markdown",
      "id": "JuX_AsY8ZpSxBV33tj7eA",
      "metadata": {},
      "source": [
        "\n",
        "---\n",
        "**Task 2 (easy): Constructing the design matrix👩‍💻**\n",
        "1. Construct the design matrix for each dataset, then print the results. Reuse the code from the in-class exercise, but remember to add the 2nd order polynomial term to the design matrices.\n",
        "\n",
        "\n",
        "---"
      ]
    },
    {
      "cell_type": "code",
      "id": "-HanZeqclc6n9mjRkU1wg",
      "metadata": {},
      "source": [
        "print(\"Design Matrix for Dataset 1:\\n\", X1_quadratic_design)"
      ],
      "execution_count": 0,
      "outputs": []
    },
    {
      "cell_type": "markdown",
      "id": "WANqjeu3eTujt5E0ac_3g",
      "metadata": {},
      "source": [
        "\n",
        "---\n",
        "**Task 3 (easy): Inverting the design matrix👩‍💻**\n",
        "1. Find the inverse of each design matrix.\n",
        "2. Calculate the model weights, then print the results.\n",
        "\n",
        "\n",
        "---"
      ]
    },
    {
      "cell_type": "code",
      "id": "cRi3wV7OLb4WnFZbAbXye",
      "metadata": {},
      "source": [
        "print(\"Weights for Model 1:\", weights1_quadratic)"
      ],
      "execution_count": 0,
      "outputs": []
    },
    {
      "cell_type": "markdown",
      "id": "67BAtB2xLkDDe0Kybm3EI",
      "metadata": {},
      "source": [
        "\n",
        "---\n",
        "**Task 4 (easy): Plotting👩‍💻💡**\n",
        "1. Use the `plot_quadratic_model`\n",
        " function to plot the results.\n",
        "2. Visually inspect the plots. Discuss the impact of the intercept in each quadratic model. How does the intercept influence the shape and position of the curve? \n",
        "3. Compare the current results to the outcome of the linear model implemented in the in-class exercise.\n",
        "\n",
        "\n",
        "---"
      ]
    },
    {
      "cell_type": "code",
      "id": "qdtOothkyO1xyU6un15DG",
      "metadata": {},
      "source": [
        "# Function to plot data points and fitted quadratic model\n",
        "def plot_quadratic_model(X, y, weights):\n",
        "    # Plot the data points\n",
        "    plt.scatter(X, y, color='blue', label='Given Points')\n",
        "    \n",
        "    # Extend x_vals range to include zero for correct visualization\n",
        "    x_vals = np.linspace(0, max(X) + 1, 100)\n",
        "    y_vals = weights[0] * x_vals**2 + weights[1] * x_vals + weights[2]\n",
        "    \n",
        "    # Plot the fitted polynomial\n",
        "    plt.plot(x_vals, y_vals, color='red', label=f'Poly: y = {weights[0]:.2f}x^2 + {weights[1]:.2f}x + {weights[2]:.2f}')\n",
        "    \n",
        "    # Plot the y-intercept\n",
        "    plt.scatter(0, weights[2], color='green', zorder=5, label=f'Y-intercept (0, {weights[2]:.2f})')\n",
        "    \n",
        "    # Add title and labels\n",
        "    plt.title('Quadratic Model')\n",
        "    plt.xlabel('X')\n",
        "    plt.ylabel('y')\n",
        "    plt.legend()\n",
        "    plt.grid(True)\n",
        "    plt.show()\n",
        "\n",
        "\n",
        "plot_quadratic_model(X1_quadratic, y1_quadratic, weights1_quadratic)"
      ],
      "execution_count": 0,
      "outputs": []
    },
    {
      "cell_type": "markdown",
      "id": "JlrCHTDug1s7SMgVcCg6a",
      "metadata": {},
      "source": [
        "\n",
        "---\n",
        "**Task 5 (easy): Making predictions👩‍💻💡**\n",
        "The cell below contains a new input. Follow these steps to predict a label for the new input:\n",
        "1. Construct a design matrix with the new input.\n",
        "2. Use the previously obtained weights to predict a label for the new input. Each set of weights should lead to a different predicted label. Store the predicted label as a separate variable. \n",
        "3. Plot the results using the `plot_quadratic_model_with_predictions`\n",
        " function. \n",
        "4. Compare the plots and the predicted labels obtained with the different weights.\n",
        "5. Extend the `new_inputs`\n",
        " array with the points `1.5`\n",
        " and `-1`\n",
        ". Follow the same steps as above to obtain labels for each input. \n",
        "6. Following the above steps should result in 3 predicted labels for each new input. Submit the labels on [Grasple](https://app.grasple.com/#/courses/10532/ci/719265/subjects/15918)\n",
        "\n",
        "\n",
        "\n",
        "---"
      ]
    },
    {
      "cell_type": "code",
      "id": "8mnL377nM2nHiPwWyAKNF",
      "metadata": {},
      "source": [
        "# New array of inputs for prediction\n",
        "new_input = np.array([14])\n",
        "\n",
        "def plot_quadratic_model_with_predictions(X, y, weights, new_input, predicted_labels):\n",
        "    # Plot the original data points\n",
        "    plt.scatter(X, y, color='blue', label='Given Points')\n",
        "\n",
        "    # Plot the fitted quadratic model\n",
        "    x_vals = np.linspace(min(X.min(), new_input.min()), max(X.max(), new_input.max()), 100)\n",
        "    y_vals = weights[0] * x_vals**2 + weights[1] * x_vals + weights[2]\n",
        "    plt.plot(x_vals, y_vals, color='red', label=f'Poly: y = {weights[0]:.2f}x^2 + {weights[1]:.2f}x + {weights[2]:.2f}')\n",
        "\n",
        "    # Plot the new inputs and their predicted labels\n",
        "    plt.scatter(new_input, predicted_labels, color='orange', label='Predicted Points')\n",
        "\n",
        "    # Add title, labels, and legend\n",
        "    plt.title('Quadratic Model with Predictions')\n",
        "    plt.xlabel('X')\n",
        "    plt.ylabel('y')\n",
        "    plt.legend()\n",
        "    plt.grid(True)\n",
        "    plt.show()"
      ],
      "execution_count": 0,
      "outputs": []
    },
    {
      "cell_type": "markdown",
      "id": "JWhHJEhb-XJzXOY2ZEBh1",
      "metadata": {},
      "source": [
        "## 3rd-order Polynomial models\n",
        "Run the cell below to construct the new dataset:\n",
        ""
      ]
    },
    {
      "cell_type": "code",
      "id": "6wcYg3Lk0Hwjxbb0J-568",
      "metadata": {},
      "source": [
        "cubic_dataset = np.array([[7, 6], [5, 24], [8, 60], [1, 120]])"
      ],
      "execution_count": 0,
      "outputs": []
    },
    {
      "cell_type": "markdown",
      "id": "ujJt8EqQ5oxIPbGskYget",
      "metadata": {},
      "source": [
        "\n",
        "---\n",
        "**Task 6 (easy): Third order polynomials👩‍💻**\n",
        "1. Identify the inputs and the labels for each dataset.\n",
        "2. Create a matrix called `X_cubic`\n",
        " to contain the inputs, and the labels in a separate arrays called `y_cubic`\n",
        ".\n",
        "3. Calculate the inverse of the design matrix. Remember to add both the quadratic and cubic terms!\n",
        "4. Reuse the code from previous tasks and find the model weights.\n",
        "\n",
        "\n",
        "---"
      ]
    },
    {
      "cell_type": "code",
      "id": "iA0DI1W7e8hal_FDPfy-9",
      "metadata": {},
      "source": [
        "# Write your solution here"
      ],
      "execution_count": 0,
      "outputs": []
    },
    {
      "cell_type": "markdown",
      "id": "MbVQqtsWROx5pJYmJ8Uxz",
      "metadata": {},
      "source": [
        "\n",
        "---\n",
        "**Task 7 (easy): Plotting👩‍💻💡**\n",
        "1. Use the `plot_cubic_model`\n",
        " function to plot the results.\n",
        "2. Visually inspect the plots and interpret the meaning and influence of each term.\n",
        "3. Compare the current results to the previous models. Based on the plots, which model shows the best fit?\n",
        "\n",
        "\n",
        "---"
      ]
    },
    {
      "cell_type": "code",
      "id": "RfqbG5fuNd5ZX-nr9N8RO",
      "metadata": {},
      "source": [
        "# Function to plot data points and fitted cubic model\n",
        "def plot_cubic_model(X, y, weights):\n",
        "    # Plot the data points\n",
        "    plt.scatter(X, y, color='blue', label='Given Points')\n",
        "    \n",
        "    # Extend x_vals range to include zero for correct visualization\n",
        "    x_vals = np.linspace(0, max(X) + 1, 100)\n",
        "    y_vals = weights[0] * x_vals**3 + weights[1] * x_vals**2 + weights[2] * x_vals + weights[3]\n",
        "    \n",
        "    # Plot the fitted polynomial\n",
        "    plt.plot(x_vals, y_vals, color='red', label=f'Poly: y = {weights[0]:.2f}x^3 + {weights[1]:.2f}x^2 + {weights[2]:.2f}x + {weights[3]:.2f}')\n",
        "    \n",
        "    # Plot the y-intercept\n",
        "    plt.scatter(0, weights[3], color='green', zorder=5, label=f'Y-intercept (0, {weights[3]:.2f})')\n",
        "    \n",
        "    # Add title and labels\n",
        "    plt.title('Cubic Model')\n",
        "    plt.xlabel('X')\n",
        "    plt.ylabel('y')\n",
        "    plt.legend()\n",
        "    plt.grid(True)\n",
        "    plt.xlim([-0.25, max(X) + 1])  # Ensure the x-axis starts from 0\n",
        "    plt.show()"
      ],
      "execution_count": 0,
      "outputs": []
    },
    {
      "cell_type": "markdown",
      "id": "oRXFzZtFkm2DSVB2jUWTR",
      "metadata": {},
      "source": [
        "\n",
        "---\n",
        "**Task 8 (easy): Making predictions👩‍💻💡**\n",
        "Implement the following steps to use the 3rd order polynomial model for predicting new labels for the `new_inputs`\n",
        " array defined below.\n",
        "1. Construct the design matrix using the `new_inputs`\n",
        ". \n",
        "2. Use the previously obtained cubic weights to predict a label for the new inputs. \n",
        "3. Plot the results using the `plot_cubic_model_with_predictions`\n",
        " function.\n",
        "4. Compare the predictions of the cubic model with the predicitons of the quadratic models.\n",
        "\n",
        "\n",
        "---"
      ]
    },
    {
      "cell_type": "code",
      "id": "ryyVSpuEPv6hvdV177rx8",
      "metadata": {},
      "source": [
        "new_inputs = np.array([14, 1.5, -1])\n",
        "\n",
        "# Function to plot data points, fitted cubic model, and predictions\n",
        "def plot_cubic_model_with_predictions(X, y, weights, new_inputs, predicted_labels):\n",
        "    # Plot the original data points\n",
        "    plt.scatter(X, y, color='blue', label='Given Points')\n",
        "\n",
        "    # Plot the fitted cubic model\n",
        "    x_vals = np.linspace(min(min(X), min(new_inputs)), max(max(X), max(new_inputs)), 100)\n",
        "    y_vals = weights[0] * x_vals**3 + weights[1] * x_vals**2 + weights[2] * x_vals + weights[3]\n",
        "    plt.plot(x_vals, y_vals, color='red', label=f'Poly: y = {weights[0]:.2f}x^3 + {weights[1]:.2f}x^2 + {weights[2]:.2f}x + {weights[3]:.2f}')\n",
        "\n",
        "    # Plot the new inputs and their predicted labels\n",
        "    plt.scatter(new_inputs, predicted_labels, color='orange', label='Predicted Points')\n",
        "\n",
        "    # Add title, labels, and legend\n",
        "    plt.title('Cubic Model with Predictions')\n",
        "    plt.xlabel('X')\n",
        "    plt.ylabel('y')\n",
        "    plt.legend()\n",
        "    plt.grid(True)\n",
        "    plt.show()"
      ],
      "execution_count": 0,
      "outputs": []
    },
    {
      "cell_type": "markdown",
      "id": "E_sKL6m2A1GZpCtgj4C2D",
      "metadata": {},
      "source": [
        ""
      ]
    }
  ]
}