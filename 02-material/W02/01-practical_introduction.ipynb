{
  "cells": [
    {
      "cell_type": "code",
      "execution_count": 1,
      "id": "css_setup",
      "metadata": {
        "jupyter": {
          "source_hidden": true
        }
      },
      "outputs": [],
      "source": [
        "import requests\n",
        "from IPython.core.display import HTML\n",
        "\n",
        "#HTML(f\"\"\"\n",
        "#<style>\n",
        "#@import \"https://cdn.jsdelivr.net/npm/bulma@0.9.4/css/bulma.min.css\";\n",
        "#</style>\n",
        "#\"\"\")"
      ]
    },
    {
      "cell_type": "markdown",
      "id": "ix0v7K1npKuyRb7tKj80M",
      "metadata": {},
      "source": [
        "# Practical introduction to Python and Numpy\n",
        "\n",
        "**Important**\n",
        "Please use either _Jupyter Lab_ (not notebook) or _Visual Studio Code_ to solve the exercises.\n",
        "\n",
        "\n",
        "<article class=\"message\">\n",
        "    <div class=\"message-body\">\n",
        "        <strong>Overview of tasks</strong>\n",
        "        <ul style=\"list-style: none;\">\n",
        "            <li>\n",
        "            <a href=\"#norm\">Task 1: Vector length</a>\n",
        "            </li>\n",
        "            <li>\n",
        "            <a href=\"#comprehensions\">Task 2: List comprehensions</a>\n",
        "            </li>\n",
        "            <li>\n",
        "            <a href=\"#dotproduct\">Task 3: Inner product</a>\n",
        "            </li>\n",
        "            <li>\n",
        "            <a href=\"#indexing\">Task 4: Array indexing</a>\n",
        "            </li>\n",
        "            <li>\n",
        "            <a href=\"#norm_np\">Task 5: Length using numpy</a>\n",
        "            </li>\n",
        "            <li>\n",
        "            <a href=\"#angle\">Task 6: Angle calculation</a>\n",
        "            </li>\n",
        "            <li>\n",
        "            <a href=\"#distances\">Task 7: Distances</a>\n",
        "            </li>\n",
        "        </ul>\n",
        "    </div>\n",
        "</article>\n",
        "\n",
        "This exercise delves deeper into the syntax of Python and NumPy, providing guidelines for effectively working with arrays using both Python's native structures (called lists) and NumPy arrays. The first part of the exercise is about implementing basic linear algebra operations using native Python types while the second part is about using Numpy.\n",
        "**Note:** Run each code cell as you progress through the exercise. Incomplete cells are part of tasks and have to be completed by you.\n",
        "\n",
        "## Using native types in Python to implement basic linear algebra operations\n",
        "The vectors `va`\n",
        " and `vb`\n",
        " are defined as:\n"
      ]
    },
    {
      "cell_type": "code",
      "execution_count": 2,
      "id": "z2BLQ80RvKQUMO2--63dr",
      "metadata": {},
      "outputs": [],
      "source": [
        "va = [2, 2]\n",
        "vb = [3, 4]"
      ]
    },
    {
      "cell_type": "markdown",
      "id": "ZWk733wVMYxC8FLw_FaA1",
      "metadata": {},
      "source": [
        "## Vector length\n",
        "The length (L2-norm) of a vector is defined as\n",
        "\n",
        "$$||v|| = \\sqrt{\\sum_{i=1}^N v_i^2}.$$\n",
        "\n",
        "---\n",
        "**Task 1 (easy): Vector length👩‍💻**\n",
        "1. Implement the length as a Python function in the code cell below.\n",
        "2. Calculate the length of the vectors `va`\n",
        " and `vb`\n",
        " using the implementation from (1).\n",
        "3. Verify the result using pen and paper.\n",
        "\n",
        "**Hints:** \n",
        "- For-loops in Python loop through the elements of an iterator and takes the current iterator value as the iteration variable, similar to for-each loops in Java.\n",
        "- The `range(x)`\n",
        " function in Python returns an iterator of integers from $0,\\dots, x-1$.\n",
        "- The length of a list `l`\n",
        " can be found using the `len(l)`\n",
        " function.\n",
        "- The `**`\n",
        " operator implements exponentiation in Python. For the square root of `x`\n",
        ", use `x**(1/2)`\n",
        ".\n",
        "- Use Python's built in `help(<function/class/method>)`\n",
        " function for additional documentation. In Jupyter Lab, you can also open a documentation popover by pressing placing the text cursor on the desired symbol and pressing **Shift + Tab**.\n",
        "\n",
        "\n",
        "---"
      ]
    },
    {
      "cell_type": "code",
      "execution_count": 3,
      "id": "Amn9Ixmxxxt4hw3yJGQ-m",
      "metadata": {},
      "outputs": [
        {
          "name": "stdout",
          "output_type": "stream",
          "text": [
            "a 2.8284271247461903\n",
            "b 5.0\n"
          ]
        }
      ],
      "source": [
        "import math\n",
        "def magnitude(vector):\n",
        "    sum_of_squares = 0\n",
        "    \n",
        "    for element in vector:\n",
        "        # Square each element, and add to accumulator\n",
        "        sum_of_squares += element ** 2\n",
        "    \n",
        "    #Squareroot of the sum accumulated  (** 1/2 is the same as square root)\n",
        "    magnitude_value = sum_of_squares ** (1/2)\n",
        "    \n",
        "    return magnitude_value\n",
        "\n",
        "#Short version\n",
        "def length(v):\n",
        "    return math.sqrt(sum([x**2 for x in v]))\n",
        "\n",
        "\n",
        "print('a', length(va))\n",
        "print('b', length(vb))\n",
        "assert length(va) == 8**0.5\n",
        "assert length(vb) == 5"
      ]
    },
    {
      "cell_type": "markdown",
      "id": "Bs65NJb42RNTBuP7hprU6",
      "metadata": {},
      "source": [
        "## List comprehensions\n",
        "Using loops for list iteration requires quite a lot of boilerplate code. Fortunately, Python's _list comprehensions_ are \n",
        "created exactly for making list iteration more expressive and easier to understand.\n",
        "A list comprehension has the following form\n",
        "```python\n",
        "[f(e) for e in list]\n",
        "\n",
        "\n",
        "```\n",
        "\n",
        "where $f$ is an arbitrary function applied to each element $e$. For people familiar with functional programming, this \n",
        "is equivalent to the `map`\n",
        " function. _Note: List comprehensions can also include guard rules. You can read more about \n",
        "list comprehensions [here](https://docs.python.org/3/tutorial/datastructures.html#list-comprehensions)\n",
        "._\n",
        "Python also provides a wealth of utility functions for performing common list operations. One such function is\n",
        "```python\n",
        "sum(l)\n",
        "\n",
        "\n",
        "```\n",
        "\n",
        "which sums all elements in the list argument.\n",
        "\n",
        "---\n",
        "**Task 2 (easy): List comprehensions👩‍💻**\n",
        "1. Implement the `length2`\n",
        " function in the cell below by using a list comprehension and the [`sum`\n",
        " function](https://docs.python.org/3.10/library/functions.html#sum)\n",
        ".    - First, exponentiate each element in a list comprehension, resulting in a new list of values.\n",
        "    - Then use the `sum`\n",
        " function to add all elements and calculate the square root of the sum.\n",
        "\n",
        "\n",
        "2. Verify the result using pen and paper.\n",
        "\n",
        "\n",
        "---"
      ]
    },
    {
      "cell_type": "code",
      "execution_count": 4,
      "id": "dmoEhulQZ8UKSGCKJS2XL",
      "metadata": {},
      "outputs": [
        {
          "name": "stdout",
          "output_type": "stream",
          "text": [
            "a 2.8284271247461903\n",
            "b 5.0\n"
          ]
        }
      ],
      "source": [
        "def length2(vector):\n",
        "    #Make a list with each element squared\n",
        "    squared_elements = [element ** 2 for element in vector]\n",
        "    \n",
        "    #Take the squared list and sum it\n",
        "    sum_of_squares = sum(squared_elements)\n",
        "    \n",
        "    #Square root of the summed values\n",
        "    magnitude_value = sum_of_squares ** (1/2)\n",
        "    \n",
        "    return magnitude_value\n",
        "\n",
        "\n",
        "print('a', length2(va))\n",
        "print('b', length2(vb))\n",
        "assert length2(va) == 8**0.5\n",
        "assert length2(vb) == 5"
      ]
    },
    {
      "cell_type": "markdown",
      "id": "UBoPVZNt96YIl_R2Dq6_E",
      "metadata": {},
      "source": [
        "\n",
        "---\n",
        "**Task 3 (easy): Inner product👩‍💻**\n",
        "In this task you will calculate the dot product of two vectors using lists. Recall the definition of the dot product:\n",
        "\n",
        "$$\n",
        "a\\cdot b = \\sum_{i=1}^N a_ib_i.\n",
        "$$\n",
        "1. Complete the function `dot`\n",
        " below by implementing the equation for inner (dot) product using either for-loops or list \n",
        "comprehensions.    - _Note: If you want to use list comprehensions you need the function `zip`\n",
        " to interleave the two lists. The `zip`\n",
        " function is \n",
        "equivalent to `zip`\n",
        " in most functional programming languages. The documentation can be found \n",
        "[here](https://docs.python.org/3/library/functions.html#zip)\n",
        "_\n",
        "\n",
        "\n",
        "2. Test the implementation on `va`\n",
        " and `vb`\n",
        ". Verify the results using pen and paper.\n",
        "\n",
        "\n",
        "---"
      ]
    },
    {
      "cell_type": "code",
      "execution_count": 5,
      "id": "NKiIWz4TY9xbGsQYeVc07",
      "metadata": {},
      "outputs": [],
      "source": [
        "def dot(a, b):\n",
        "    sum_of_products = 0\n",
        "    for i in range(len(a)):\n",
        "        #Multiply each element of a with the corresponding element in b\n",
        "        sum_of_products += a[i] * b[i]\n",
        "    return sum_of_products\n",
        "\n",
        "# Tests\n",
        "assert dot(va, vb) == 14"
      ]
    },
    {
      "cell_type": "markdown",
      "id": "qoDshPEBgqAOM_pbmNg0t",
      "metadata": {},
      "source": [
        "## Introducing Numpy\n",
        "Numpy makes it way easier to work with multidimensional arrays and provides a significant performance increase. Refer to this week's tutorial\n",
        " for further information.\n",
        "The following code imports the `numpy`\n",
        " package and creates a $3\\times 3$ matrix:\n",
        "**Note:** Note that the import statement renames `numpy`\n",
        " to `np`\n",
        ". This is commonly done in Python to avoid namespace confusion.\n",
        "\n"
      ]
    },
    {
      "cell_type": "code",
      "execution_count": 6,
      "id": "WJXImIlcU9G8pph0RXGg-",
      "metadata": {},
      "outputs": [],
      "source": [
        "import numpy as np\n",
        "\n",
        "A = np.array([\n",
        "    [1, 2, 3],\n",
        "    [3, 4, 9],\n",
        "    [5, 7, 3]\n",
        "])"
      ]
    },
    {
      "cell_type": "markdown",
      "id": "zcpfaD7AqZOBCz4DtU03r",
      "metadata": {},
      "source": [
        "Use `A.shape`\n",
        " to get the dimensions (size) of the array. The `shape`\n",
        " property works on all Numpy arrays, e.g. `(A*2).shape`\n",
        " works as well (we will \n",
        "return to array operations later in this exercise).\n",
        "The cell below prints the shape of `A`\n",
        ":\n"
      ]
    },
    {
      "cell_type": "code",
      "execution_count": 7,
      "id": "iQU3w-RAv7qAo5qYBTcFi",
      "metadata": {},
      "outputs": [
        {
          "data": {
            "text/plain": [
              "(3, 3)"
            ]
          },
          "execution_count": 7,
          "metadata": {},
          "output_type": "execute_result"
        }
      ],
      "source": [
        "A.shape"
      ]
    },
    {
      "cell_type": "markdown",
      "id": "A4I-EphBekMoRTfrSXRV8",
      "metadata": {},
      "source": [
        "## Slicing\n",
        "Slicing allows you to select a sequence or area of array elements using the `<start>:<stop>`\n",
        " notation, e.g. `0:2`\n",
        ". Inspect the code cell below for a few examples:\n",
        "\n",
        "https://www.w3schools.com/python/numpy/trypython.asp?filename=demo_numpy_array_slicing_2d3\n"
      ]
    },
    {
      "cell_type": "code",
      "execution_count": 8,
      "id": "ts3zcoy4wKsWzggwi_WtQ",
      "metadata": {},
      "outputs": [
        {
          "name": "stdout",
          "output_type": "stream",
          "text": [
            "single element [1 2 3]\n",
            "vector of elements [2 4]\n",
            "matrix of elements\n",
            " [[1 2]\n",
            " [3 4]\n",
            " [5 7]]\n"
          ]
        }
      ],
      "source": [
        "single = A[0]\n",
        "print('single element', single)\n",
        "\n",
        "vector = A[:2, 1] # 0's can be ommitted.\n",
        "print('vector of elements', vector)\n",
        "\n",
        "matrix = A[:, :2]\n",
        "print('matrix of elements\\n', matrix)"
      ]
    },
    {
      "cell_type": "markdown",
      "id": "l8i7PqUbVy3Ft0VjJTo11",
      "metadata": {},
      "source": [
        "It is possible to use negative indices. These are equivalent to counting from the end of the array, i.e. `-<idx>`\n",
        "\n",
        "is equivalent to `len(a)-<idx>`\n",
        ". A few examples:\n"
      ]
    },
    {
      "cell_type": "code",
      "execution_count": 9,
      "id": "NNmrKz64uAGdGX45vUYT4",
      "metadata": {},
      "outputs": [
        {
          "name": "stdout",
          "output_type": "stream",
          "text": [
            "single 3\n",
            "arange [[1 2]]\n"
          ]
        }
      ],
      "source": [
        "single = A[-1, -1]\n",
        "print('single', single)\n",
        "\n",
        "arange = A[0:-2, 0:-1]\n",
        "print('arange', arange)"
      ]
    },
    {
      "cell_type": "markdown",
      "id": "ZuqCfIJ32Es6Hp8WwUC8i",
      "metadata": {},
      "source": [
        "\n",
        "**Info**\n",
        "You can find the official documentation for Numpy slicing [here](https://numpy.org/doc/stable/user/basics.indexing.html)\n",
        ".\n",
        "\n",
        "\n",
        "---\n",
        "**Task 4 (easy): Array indexing👩‍💻**\n",
        "Use slicing to create the following variables:\n",
        "1. Create a 2x2 matrix `ur`\n",
        " from of the upper right corner of `A`\n",
        ".\n",
        "2. Extract the 2nd row of `A`\n",
        " and store it in the variable `row`\n",
        ".\n",
        "3. Extract the 1st column of `A`\n",
        " and store it in the variable `col`\n",
        ".\n",
        "\n",
        "\n",
        "---"
      ]
    },
    {
      "cell_type": "code",
      "execution_count": 10,
      "id": "wqDzjFQIEiGvTPMDP3MB_",
      "metadata": {},
      "outputs": [
        {
          "name": "stdout",
          "output_type": "stream",
          "text": [
            "upper right\n",
            " [[2 3]\n",
            " [4 9]]\n",
            "row [[3 4 9]]\n",
            "column [1 3 5]\n"
          ]
        }
      ],
      "source": [
        "ur = A[0:2, 1:3]\n",
        "row = A[1:2]\n",
        "col = A[:,0]\n",
        "\n",
        "print('upper right\\n', ur)\n",
        "print('row', row)\n",
        "print('column', col)\n",
        "\n",
        "# Tests\n",
        "assert np.all(ur == np.array([[2, 3], [4, 9]]))\n",
        "assert np.all(row == np.array([3, 4, 9]))\n",
        "assert np.all(col == np.array([1, 3, 5]))"
      ]
    },
    {
      "cell_type": "markdown",
      "id": "NlwwBUeI_lWIbfAhKsW6M",
      "metadata": {},
      "source": [
        "---\n",
        "## Using Numpy array operations\n",
        "While these implementations seem fine for small inputs, they become unbearingly slow for large arrays.\n",
        "Let's try an example. The code below uses numpy to generate $1000000$-dimensional vectors of random numbers:\n"
      ]
    },
    {
      "cell_type": "code",
      "execution_count": 11,
      "id": "PH59VAQGdQ4blw77suqjB",
      "metadata": {},
      "outputs": [],
      "source": [
        "ta = np.random.randint(100, size=1000000)\n",
        "tb = np.random.randint(100, size=1000000)"
      ]
    },
    {
      "cell_type": "markdown",
      "id": "MOfOl5unlMDKNJhxBn3sM",
      "metadata": {},
      "source": [
        "Jupyter notebooks support the command `%timeit <statement>`\n",
        ", which runs a performance test on a given statement. This makes it possible to performance test the native implementation of the inner product from {{ ref(dotproduct) }}:\n"
      ]
    },
    {
      "cell_type": "code",
      "execution_count": 12,
      "id": "PJ1wzvMoGvEfBi6gao8pE",
      "metadata": {},
      "outputs": [
        {
          "name": "stderr",
          "output_type": "stream",
          "text": [
            "C:\\Users\\jgrum\\AppData\\Local\\Temp\\ipykernel_173296\\2450873291.py:5: RuntimeWarning: overflow encountered in scalar add\n",
            "  sum_of_products += a[i] * b[i]\n"
          ]
        },
        {
          "name": "stdout",
          "output_type": "stream",
          "text": [
            "134 ms ± 2.32 ms per loop (mean ± std. dev. of 7 runs, 10 loops each)\n"
          ]
        }
      ],
      "source": [
        "%timeit dot(ta, tb)"
      ]
    },
    {
      "cell_type": "markdown",
      "id": "urf6vXYL0HsmsMF7U4HPD",
      "metadata": {},
      "source": [
        "Not very fast, huh? Now, let's try using Numpy's built-in function for inner products, `np.dot`\n",
        ":\n"
      ]
    },
    {
      "cell_type": "code",
      "execution_count": 13,
      "id": "YytuZfJuKerDPa3CjosIY",
      "metadata": {},
      "outputs": [
        {
          "name": "stdout",
          "output_type": "stream",
          "text": [
            "320 μs ± 4.5 μs per loop (mean ± std. dev. of 7 runs, 1,000 loops each)\n"
          ]
        }
      ],
      "source": [
        "%timeit np.dot(ta, tb)"
      ]
    },
    {
      "cell_type": "markdown",
      "id": "gZRtRFkq8BxEi9dmi0zq_",
      "metadata": {},
      "source": [
        "This is approximately 300 times faster than the native implementation (on the test computer, anyway)!. What about other list operations? Let's try the `sum`\n",
        " function:\n"
      ]
    },
    {
      "cell_type": "code",
      "execution_count": 14,
      "id": "0cWeNSP9rGrZX2kKb2oRG",
      "metadata": {},
      "outputs": [
        {
          "name": "stdout",
          "output_type": "stream",
          "text": [
            "33.1 ms ± 5.83 ms per loop (mean ± std. dev. of 7 runs, 10 loops each)\n",
            "142 μs ± 6.73 μs per loop (mean ± std. dev. of 7 runs, 10,000 loops each)\n"
          ]
        }
      ],
      "source": [
        "%timeit sum(ta)\n",
        "%timeit np.sum(ta)"
      ]
    },
    {
      "cell_type": "markdown",
      "id": "MgDOt3SbZQUwjx_iS9433",
      "metadata": {},
      "source": [
        "Again, a similar performance improvement. Because of its performance, Numpy should always be used instead of native Python wherever possible. In general, you should expect a speed improvement of several orders of magnitude when using Numpy.\n",
        "## Adapting Python code to Numpy\n",
        "This exercise is about adapting the `length`\n",
        " function implemented int [Task 1](#norm) to Numpy. Overloaded operators are common in Numpy. For example, to exponentiate the elements of a Numpy array `x`\n",
        " to the $4$'th power, simply use the `**`\n",
        " \n",
        "operator on the array itself, i.e. `x**4`\n",
        ".\n",
        "\n",
        "---\n",
        "**Task 5 (easy): Length using numpy👩‍💻**\n",
        "1. In the cell below, implement `length_np`\n",
        " using Numpy. You can use Numpy's sum function (`np.sum`\n",
        ").\n",
        "2. Test it on the provided input `vec`\n",
        ".\n",
        "\n",
        "\n",
        "---"
      ]
    },
    {
      "cell_type": "code",
      "execution_count": 15,
      "id": "wjSTnQLLJROR3uNfShsZh",
      "metadata": {},
      "outputs": [
        {
          "data": {
            "text/plain": [
              "7.3484692283495345"
            ]
          },
          "execution_count": 15,
          "metadata": {},
          "output_type": "execute_result"
        }
      ],
      "source": [
        "def length_np(v):\n",
        "\n",
        "    #We use operator on the array itself, to square each element of the array\n",
        "    #We add each squared element together, and in the end takes the square root\n",
        "    return np.sqrt(np.sum(v**2))\n",
        "    \n",
        "\n",
        "vec = np.array([2, 3, 4, 5])\n",
        "length_np(vec)"
      ]
    },
    {
      "cell_type": "markdown",
      "id": "1XeToeD_OPQEfSPCfWdgF",
      "metadata": {},
      "source": [
        "Compare the Python and Numpy implementations using an array of random numbers:\n"
      ]
    },
    {
      "cell_type": "code",
      "execution_count": 16,
      "id": "3O_8Oa75P3Qej9jt60gl3",
      "metadata": {},
      "outputs": [
        {
          "name": "stdout",
          "output_type": "stream",
          "text": [
            "6.87 μs ± 36.2 ns per loop (mean ± std. dev. of 7 runs, 100,000 loops each)\n",
            "710 μs ± 8.33 μs per loop (mean ± std. dev. of 7 runs, 1,000 loops each)\n",
            "728 μs ± 6.18 μs per loop (mean ± std. dev. of 7 runs, 1,000 loops each)\n"
          ]
        }
      ],
      "source": [
        "vr = np.random.randint(100, size=10000)\n",
        "\n",
        "%timeit length_np(vr)\n",
        "%timeit length(vr)\n",
        "%timeit length2(vr)"
      ]
    },
    {
      "cell_type": "markdown",
      "id": "wrWYEouXLakmJXrxFj-HK",
      "metadata": {},
      "source": [
        "This should reveal a large difference between the Numpy and Python implementations.\n",
        "## Angles between vectors\n",
        "The angle between vectors $\\mathbf{u}$ and $\\mathbf{v}$ is described by the following relation (as shown in the lecture):\n",
        "\n",
        "$$\n",
        "\\cos \\theta = \\frac{\\mathbf{u}\\cdot \\mathbf{v}}{\\|\\mathbf{u}\\|\\|\\mathbf{v}\\|}\n",
        "$$\n",
        "_Note to self: Return the result as a tuple of (radians, degrees). Check what resources we currently have on tuples_\n",
        "\n",
        "---\n",
        "**Task 6 (easy): Angle calculation👩‍💻**\n",
        "1. Use Numpy to implement the `angle`\n",
        " function in the code cell below. The function should return the angle in radians between inputs `a`\n",
        " and `b`\n",
        ".\n",
        "2. Verify the example below using pen and paper.\n",
        "\n",
        "\n",
        "---"
      ]
    },
    {
      "cell_type": "code",
      "execution_count": 17,
      "id": "kMl0fr0fe3shgETsDfW7a",
      "metadata": {},
      "outputs": [
        {
          "name": "stdout",
          "output_type": "stream",
          "text": [
            "1.1426035712129559\n"
          ]
        }
      ],
      "source": [
        "def angle(u, v):\n",
        "\n",
        "    #First we calculate the products between u and v\n",
        "    uv = np.dot(u, v)\n",
        "\n",
        "    #Then we calculate the magnitudes of u and v\n",
        "    u_magnitude = length_np(u)\n",
        "    v_magnitude = length_np(v)\n",
        "\n",
        "    #We calculate the angle between u and v, using the formula\n",
        "    \n",
        "    # We calculate the angle between u and v, using the formula\n",
        "    angle_radians = np.arccos(uv / (u_magnitude * v_magnitude))\n",
        "    return angle_radians\n",
        "    \n",
        "\n",
        "\n",
        "a = np.array([2, 3, 4])\n",
        "b = np.array([0, -1, 2])\n",
        "print(angle(a, b)) # The result should be: 1.1426035712129559\n",
        "assert angle(a, b) == 1.1426035712129559"
      ]
    },
    {
      "cell_type": "markdown",
      "id": "OJrusWCPSP3ETPShBDiEz",
      "metadata": {},
      "source": [
        "## Distances\n",
        "The Euclidean distance between two vectors $\\mathbf{a}$ and $\\mathbf{b}$ is calculated as the length of the difference vector between $\\mathbf{a}$ and $\\mathbf{b}$, i.e. $\\|\\mathbf{a}-\\mathbf{b}\\|$.\n",
        "\n",
        "---\n",
        "**Task 7 (medium): Distances👩‍💻**\n",
        "1. Create two-dimensional vectors $\\mathbf{a}=\\begin{bmatrix}0\\\\0\\end{bmatrix}$ and $\\mathbf{b}=\\begin{bmatrix}1\\\\1\\end{bmatrix}$ using `np.zeros`\n",
        " and `np.ones`\n",
        " (refer to the tutorial for inspiration). Use the code cell below.\n",
        "2. Calculate the distance between the points and print the result.\n",
        "3. Create n-dimensional vectors $\\mathbf{a}=\\begin{bmatrix}0\\\\\\vdots\\\\0\\end{bmatrix}$ and $\\mathbf{b}=\\begin{bmatrix}1\\\\\\vdots\\\\1\\end{bmatrix}$ using `np.zeros`\n",
        " and `np.ones`\n",
        " (refer to the tutorial for inspiration) for $n=1, \\dots, 10$. Calculate the distance between the vectors for each number of dimensions. Plot the distances as a function of $n$.\n",
        "4. Explain the relationship in the figure between the number of dimensions and the distance.\n",
        "5. _(optional)_ Derive a formula for the distance between $\\mathbf{a}$ and $\\mathbf{b}$ as a function of the number of dimensions $n$, i.e. $f(n)=?$\n",
        "\n",
        "\n",
        "---"
      ]
    },
    {
      "cell_type": "code",
      "execution_count": 18,
      "id": "L3YWzTKpn9eVLnPcA5LgC",
      "metadata": {},
      "outputs": [
        {
          "data": {
            "image/png": "[encoded data removed]",
            "text/plain": [
              "<Figure size 640x480 with 1 Axes>"
            ]
          },
          "metadata": {},
          "output_type": "display_data"
        }
      ],
      "source": [
        "import numpy as np\n",
        "import matplotlib.pyplot as plt\n",
        "\n",
        "# Initialize arrays to store the distances and the values of n\n",
        "n_values = np.arange(1, 11)\n",
        "distances = []\n",
        "\n",
        "for n in n_values:\n",
        "    a = np.zeros(n)  # n-dimensional vector of zeros\n",
        "    b = np.ones(n)   # n-dimensional vector of ones\n",
        "    \n",
        "    # Calculate the Euclidean distance\n",
        "    distance = np.linalg.norm(a - b)\n",
        "    distances.append(distance)\n",
        "\n",
        "# Plot the distance as a function of n\n",
        "plt.plot(n_values, distances, marker='o')\n",
        "plt.title('Distance between vectors a and b as a function of n')\n",
        "plt.xlabel('Number of dimensions (n)')\n",
        "plt.ylabel('Distance')\n",
        "plt.grid(True)\n",
        "plt.show()\n"
      ]
    }
  ],
  "metadata": {
    "kernelspec": {
      "display_name": "Python",
      "language": "python3",
      "name": "python3"
    },
    "language_info": {
      "codemirror_mode": {
        "name": "ipython",
        "version": 3
      },
      "file_extension": ".py",
      "mimetype": "text/x-python",
      "name": "python",
      "nbconvert_exporter": "python",
      "pygments_lexer": "ipython3",
      "version": "3.10.14"
    }
  },
  "nbformat": 4,
  "nbformat_minor": 5
}
