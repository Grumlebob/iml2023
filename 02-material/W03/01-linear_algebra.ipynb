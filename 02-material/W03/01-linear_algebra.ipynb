{
  "cells": [
    {
      "cell_type": "code",
      "execution_count": 26,
      "id": "css_setup",
      "metadata": {
        "jupyter": {
          "source_hidden": true
        }
      },
      "outputs": [],
      "source": [
        "import requests\n",
        "from IPython.core.display import HTML\n",
        "#HTML(f\"\"\"\n",
        "#<style>\n",
        "#@import \"https://cdn.jsdelivr.net/npm/bulma@0.9.4/css/bulma.min.css\";\n",
        "#</style>\n",
        "#\"\"\")"
      ]
    },
    {
      "cell_type": "markdown",
      "id": "Oofk3nsM1fTg5E9V6OX-Z",
      "metadata": {},
      "source": [
        "# Linear Algebra using Python and Numpy\n",
        "This exercise introduces fundamental linear algebra operations in Numpy and how to use them to solve linear systems of equations. The goal is to familiarise yourself with the concepts of linear algebra and how to use them in Numpy. The following topics will be covered:\n",
        "- Performing matrix operations (elementwise operations, transpose, multiplication, inverse).\n",
        "- Properties of matrix multiplication and inverse.\n",
        "- Representing linear equations in matrix form.\n",
        "- Solving linear equations using the matrix inverse.\n",
        "\n",
        "\n",
        "<article class=\"message\">\n",
        "    <div class=\"message-body\">\n",
        "        <strong>List of individual tasks</strong>\n",
        "        <ul style=\"list-style: none;\">\n",
        "            <li>\n",
        "            <a href=\"#diff\">Task 1: Elementwise difference</a>\n",
        "            </li>\n",
        "            <li>\n",
        "            <a href=\"#mul_prop\">Task 2: Multiplication properties</a>\n",
        "            </li>\n",
        "            <li>\n",
        "            <a href=\"#elem_mul\">Task 3: Elementwise multiplication</a>\n",
        "            </li>\n",
        "            <li>\n",
        "            <a href=\"#inverses\">Task 4: Inverses</a>\n",
        "            </li>\n",
        "            <li>\n",
        "            <a href=\"#inverse_prop\">Task 5: Inverse properties</a>\n",
        "            </li>\n",
        "            <li>\n",
        "            <a href=\"#determinant\">Task 6: The determinant</a>\n",
        "            </li>\n",
        "            <li>\n",
        "            <a href=\"#transpose\">Task 7: Transpose</a>\n",
        "            </li>\n",
        "            <li>\n",
        "            <a href=\"#eqsys\">Task 8: Solving linear equation systems</a>\n",
        "            </li>\n",
        "            <li>\n",
        "            <a href=\"#matmul\">Task 9: Implementing matrix multiplication</a>\n",
        "            </li>\n",
        "        </ul>\n",
        "    </div>\n",
        "</article>\n",
        "\n",
        "The cell below defines matrices `A`\n",
        ", `B`\n",
        ", `C`\n",
        ", `D`\n",
        ", `E`\n",
        " that are used throughout the exercise:\n"
      ]
    },
    {
      "cell_type": "code",
      "execution_count": 27,
      "id": "Rt_Uvq-MhSb7YyyvHH-IC",
      "metadata": {},
      "outputs": [],
      "source": [
        "import numpy as np\n",
        "import matplotlib.pyplot as plt"
      ]
    },
    {
      "cell_type": "code",
      "execution_count": 28,
      "id": "eyjT9nz_cewI7kyKiSQmz",
      "metadata": {},
      "outputs": [],
      "source": [
        "# Define matrices to be used in the tasks:\n",
        "A = np.array([\n",
        "    [1, 0.5, 1/3, 0.25],\n",
        "    [0.5, 1/3, 0.25, 0.2],\n",
        "    [1/3, 0.25, 0.2, 1/6],\n",
        "    [0.25, 0.2, 1/6, 1/7]\n",
        "])\n",
        "\n",
        "B = np.array([\n",
        "    [-16, 15, -14, 13],\n",
        "    [-12, 11, -10, 9],\n",
        "    [-8, 7, -6, 5],\n",
        "    [-4, 3, -2, 1]\n",
        "])\n",
        "\n",
        "C = np.array([\n",
        "    [1, 1/2, 1/3, 1/4],\n",
        "    [1/2, 1/3, 1/4, 1/5],\n",
        "    [1/3, 1/5, 1/7, 1/9],\n",
        "    [1/4, 1/7, 1/8, 1/9],\n",
        "])\n",
        "\n",
        "D = np.array([\n",
        "    [2, 4, 5/2],\n",
        "    [-3/4, 2, 0.25],\n",
        "    [0.25, 0.5, 2]\n",
        "])\n",
        "\n",
        "E = np.array([\n",
        "    [1, -0.5, 3/4],\n",
        "    [3/2, 0.5, -2],\n",
        "    [0.25, 1, 0.5]\n",
        "])\n",
        "\n",
        "D_inv = np.linalg.inv(D)\n",
        "E_inv = np.linalg.inv(E)"
      ]
    },
    {
      "cell_type": "markdown",
      "id": "lNjPYQoz9wk8YxrDOuXpw",
      "metadata": {},
      "source": [
        "\n",
        "---\n",
        "**Task 1 (easy): Elementwise difference👩‍💻**\n",
        "1. Calculate $A-B$ in the code cell below.\n",
        "\n",
        "\n",
        "---"
      ]
    },
    {
      "cell_type": "code",
      "execution_count": 29,
      "id": "UhCJ1ujWxBVuurl6nXrUo",
      "metadata": {},
      "outputs": [
        {
          "name": "stdout",
          "output_type": "stream",
          "text": [
            "[[ 17.         -14.5         14.33333333 -12.75      ]\n",
            " [ 12.5        -10.66666667  10.25        -8.8       ]\n",
            " [  8.33333333  -6.75         6.2         -4.83333333]\n",
            " [  4.25        -2.8          2.16666667  -0.85714286]]\n"
          ]
        }
      ],
      "source": [
        "difference = A - B\n",
        "print(difference)\n"
      ]
    },
    {
      "cell_type": "markdown",
      "id": "jttpXaj254GoOk37HVASQ",
      "metadata": {},
      "source": [
        "\n",
        "---\n",
        "**Task 2 (easy): Multiplication properties👩‍💻**\n",
        "1. Calculate $AC$ and $CA$ in the code cell below. (You may use either [`np.dot`\n",
        "](https://numpy.org/doc/stable/reference/generated/numpy.dot.html<elem-3>.dot)\n",
        " or the `@`\n",
        " operator).\n",
        "2. Explain why the results are different.\n",
        "\n",
        "\n",
        "---"
      ]
    },
    {
      "cell_type": "code",
      "execution_count": 30,
      "id": "Ml855DvEz478WENtlk8SJ",
      "metadata": {},
      "outputs": [
        {
          "name": "stdout",
          "output_type": "stream",
          "text": [
            "AC using np.dot:\n",
            " [[1.42361111 0.76904762 0.53720238 0.41481481]\n",
            " [0.8        0.43968254 0.31071429 0.24166667]\n",
            " [0.56666667 0.31380952 0.22301587 0.17407407]\n",
            " [0.44126984 0.24540816 0.175      0.13689153]]\n",
            "\n",
            "CA using np.dot:\n",
            " [[1.42361111 0.8        0.56666667 0.44126984]\n",
            " [0.8        0.46361111 0.33333333 0.26190476]\n",
            " [0.50873016 0.29126984 0.20820106 0.16301587]\n",
            " [0.39087302 0.22609127 0.16256614 0.12777778]]\n",
            "\n",
            "AC using @ operator:\n",
            " [[1.42361111 0.76904762 0.53720238 0.41481481]\n",
            " [0.8        0.43968254 0.31071429 0.24166667]\n",
            " [0.56666667 0.31380952 0.22301587 0.17407407]\n",
            " [0.44126984 0.24540816 0.175      0.13689153]]\n",
            "\n",
            "CA using @ operator:\n",
            " [[1.42361111 0.8        0.56666667 0.44126984]\n",
            " [0.8        0.46361111 0.33333333 0.26190476]\n",
            " [0.50873016 0.29126984 0.20820106 0.16301587]\n",
            " [0.39087302 0.22609127 0.16256614 0.12777778]]\n"
          ]
        }
      ],
      "source": [
        "# Write your solution here\n",
        "##Reason why different: matrix multiplication is not commutative, 𝐴𝐶  will generally not be equal to 𝐶𝐴\n",
        "\n",
        "# Calculate AC and CA using np.dot\n",
        "AC_dot = np.dot(A, C)\n",
        "CA_dot = np.dot(C, A)\n",
        "\n",
        "# Calculate AC and CA using @ operator\n",
        "AC_at = A @ C\n",
        "CA_at = C @ A\n",
        "\n",
        "# Print the results\n",
        "print(\"AC using np.dot:\\n\", AC_dot)\n",
        "print(\"\\nCA using np.dot:\\n\", CA_dot)\n",
        "\n",
        "print(\"\\nAC using @ operator:\\n\", AC_at)\n",
        "print(\"\\nCA using @ operator:\\n\", CA_at)"
      ]
    },
    {
      "cell_type": "markdown",
      "id": "p-r6K6fiT-nVLCFK2wcoF",
      "metadata": {},
      "source": [
        "\n",
        "---\n",
        "**Task 3 (easy): Elementwise multiplication👩‍💻**\n",
        "1. Calculate the elementwise multiplication of $A$ and $C$ using the `*`\n",
        " operator.\n",
        "2. Explain the difference between the `*`\n",
        " and `@`\n",
        " operators.\n",
        "\n",
        "\n",
        "---"
      ]
    },
    {
      "cell_type": "code",
      "execution_count": 31,
      "id": "UKZ0dWJUmw0FwcELbhZna",
      "metadata": {},
      "outputs": [
        {
          "name": "stdout",
          "output_type": "stream",
          "text": [
            "Elementwise multiplication of A and C:\n",
            " [[1.         0.25       0.11111111 0.0625    ]\n",
            " [0.25       0.11111111 0.0625     0.04      ]\n",
            " [0.11111111 0.05       0.02857143 0.01851852]\n",
            " [0.0625     0.02857143 0.02083333 0.01587302]]\n"
          ]
        }
      ],
      "source": [
        "# Write your solution here\n",
        "\n",
        "# Elementwise multiplication of A and C using *\n",
        "elementwise_multiplication = A * C\n",
        "\n",
        "# Print the result\n",
        "print(\"Elementwise multiplication of A and C:\\n\", elementwise_multiplication)\n"
      ]
    },
    {
      "cell_type": "markdown",
      "id": "KmJ1wwRnve-dIdvBu6smW",
      "metadata": {},
      "source": [
        "\n",
        "---\n",
        "**Task 4 (easy): Inverses👩‍💻**\n",
        "1. Use [`np.linalg.inv`\n",
        "](https://docs.scipy.org/doc/numpy/reference/generated/numpy.linalg.inv.html)\n",
        " to calculate  the inverse of $A$ and $C$.\n",
        "2. Verify that $AA^{-1}=I$ and $CC^{-1}=I$. If the results differ from your expectations, argue why this is the case. _Hint: The question relates to the limitations of floating point numbers._\n",
        "\n",
        "\n",
        "---"
      ]
    },
    {
      "cell_type": "code",
      "execution_count": 32,
      "id": "3xcJuN56t0CD7317K32cf",
      "metadata": {},
      "outputs": [
        {
          "name": "stdout",
          "output_type": "stream",
          "text": [
            "A * A_inv:\n",
            " [[ 1.00000000e+00  0.00000000e+00  0.00000000e+00  0.00000000e+00]\n",
            " [-8.43769499e-16  1.00000000e+00 -9.21041021e-14  7.65609798e-14]\n",
            " [ 2.47949809e-15 -1.55431223e-14  1.00000000e+00 -4.48530102e-14]\n",
            " [ 1.11022302e-15 -2.95636531e-14  1.70657139e-14  1.00000000e+00]]\n",
            "\n",
            "C * C_inv:\n",
            " [[ 1.00000000e+00  0.00000000e+00  0.00000000e+00  0.00000000e+00]\n",
            " [ 7.23865412e-15  1.00000000e+00 -3.00781622e-13 -2.62012634e-15]\n",
            " [-1.66533454e-14  4.01283944e-14  1.00000000e+00  7.77156117e-15]\n",
            " [-1.66533454e-14  4.01283944e-14 -3.88701417e-13  1.00000000e+00]]\n",
            "\n",
            "Is A * A_inv approximately I? True\n",
            "\n",
            "Is C * C_inv approximately I? True\n"
          ]
        }
      ],
      "source": [
        "# Write your solution here\n",
        "\n",
        "I = np.eye\n",
        "A_inv = np.linalg.inv(A)\n",
        "C_inv = np.linalg.inv(C)\n",
        "\n",
        "# Verify that AA^-1 = I and CC^-1 = I\n",
        "I_A = np.dot(A, A_inv)\n",
        "I_C = np.dot(C, C_inv)\n",
        "\n",
        "# Print the results\n",
        "print(\"A * A_inv:\\n\", I_A)\n",
        "print(\"\\nC * C_inv:\\n\", I_C)\n",
        "\n",
        "identity_matrix = np.eye(A.shape[0]) # A is a square matrix, so we can use A.shape[0] to get the number of rows/columns\n",
        "# Check if they are approximately the identity matrix\n",
        "print(\"\\nIs A * A_inv approximately I?\", np.allclose(I_A, identity_matrix))\n",
        "print(\"\\nIs C * C_inv approximately I?\", np.allclose(I_C, identity_matrix))\n"
      ]
    },
    {
      "cell_type": "markdown",
      "id": "1c4-VhRPqZEfc7gbgxBN7",
      "metadata": {},
      "source": [
        "### Properties\n",
        "\n",
        "---\n",
        "**Task 5 (easy): Inverse properties👩‍💻**\n",
        "Use the code cell below to verify that:\n",
        "1. $D^{-1}E^{-1} = (ED)^{-1}$\n",
        "2. $D^{-1}E^{-1} \\neq (DE)^{-1}$\n",
        "\n",
        "\n",
        "---"
      ]
    },
    {
      "cell_type": "code",
      "execution_count": 33,
      "id": "zcnwK-VWceeZv7-ASOlTp",
      "metadata": {},
      "outputs": [
        {
          "name": "stdout",
          "output_type": "stream",
          "text": [
            "\n",
            "Is D_inv * E_inv approximately (ED)_inv? True\n",
            "\n",
            "Is D_inv * E_inv approximately (ED)_inv? False\n"
          ]
        }
      ],
      "source": [
        "#1:\n",
        "D_inv_E_inv = np.dot(D_inv, E_inv)\n",
        "E_D_inv = np.linalg.inv(np.dot(E, D))\n",
        "print(\"\\nIs D_inv * E_inv approximately (ED)_inv?\", np.allclose(D_inv_E_inv, E_D_inv))\n",
        "\n",
        "#2:\n",
        "D_E_inv = np.linalg.inv(np.dot(D, E))\n",
        "print(\"\\nIs D_inv * E_inv approximately (ED)_inv?\", np.allclose(D_inv_E_inv, D_E_inv))\n"
      ]
    },
    {
      "cell_type": "markdown",
      "id": "ulX2Lh9W-ZtDfv7Ha1dxV",
      "metadata": {},
      "source": [
        "\n",
        "---\n",
        "**Task 6 (easy): The determinant👩‍💻**\n",
        "1. Calculate the determinant of $A$, $B$, and $C$ using [`np.linalg.det`\n",
        "](https://numpy.org/doc/stable/reference/generated/numpy.linalg.det.html<elem-4>.linalg.det)\n",
        ".\n",
        "2. Based on the results, determine which of the matrices have an inverse.\n",
        "3. Calculate the inverses of the matrices using [`np.linalg.inv`\n",
        "](https://numpy.org/doc/stable/reference/generated/numpy.linalg.inv.html<elem-6>.linalg.inv)\n",
        ". Explain what happens and how this is related to your answer in (2).\n",
        "\n",
        "\n",
        "---"
      ]
    },
    {
      "cell_type": "code",
      "execution_count": 34,
      "id": "xG61wG6MQa5CrLIfHxNuM",
      "metadata": {},
      "outputs": [
        {
          "name": "stdout",
          "output_type": "stream",
          "text": [
            "Determinant of A: 1.6534391534392967e-07\n",
            "Determinant of B: 0.0\n",
            "Determinant of C: 1.0498026371042581e-07\n"
          ]
        }
      ],
      "source": [
        "# Determinants:\n",
        "det_A = np.linalg.det(A)\n",
        "det_B = np.linalg.det(B)\n",
        "det_C = np.linalg.det(C)\n",
        "\n",
        "# Print the determinants\n",
        "print(\"Determinant of A:\", det_A)\n",
        "print(\"Determinant of B:\", det_B)\n",
        "print(\"Determinant of C:\", det_C)\n",
        "\n",
        "#They only have inverses if determinant is not equal to 0, therefore:\n",
        "#A and C have inverses, B does not have an inverse"
      ]
    },
    {
      "cell_type": "markdown",
      "id": "BhUPZa-veHRELM07Xep61",
      "metadata": {},
      "source": [
        "\n",
        "---\n",
        "**Task 7 (easy): Transpose👩‍💻**\n",
        "1. Verify that $(D^{-1})^\\top$ and ${D^\\top}^{-1}$ are equal.\n",
        "\n",
        "\n",
        "**Hint**\n",
        "The transpose of a matrix `A`\n",
        " in Numpy can be calculated with `A.T`\n",
        ".\n",
        "\n",
        "\n",
        "---"
      ]
    },
    {
      "cell_type": "code",
      "execution_count": 35,
      "id": "e3495noGzp6-SVTjoJ-J2",
      "metadata": {},
      "outputs": [
        {
          "name": "stdout",
          "output_type": "stream",
          "text": [
            "Are they equal True\n"
          ]
        }
      ],
      "source": [
        "# Write your solution here\n",
        "\n",
        "# Transpose of inverse D\n",
        "D_inv_T = D_inv.T\n",
        "\n",
        "# Inverse of transpose D\n",
        "D_T_inv = np.linalg.inv(D.T)\n",
        "\n",
        "\n",
        "print(\"Are they equal\", np.allclose(D_inv_T, D_T_inv))"
      ]
    },
    {
      "cell_type": "markdown",
      "id": "mWQgUuu18jj1MOTuCa7-z",
      "metadata": {},
      "source": [
        "## Linear equations\n",
        "Matrices can represent systems of linear equations\n",
        "\n",
        "$$\n",
        "Ax=b\n",
        "$$\n",
        "where $A$ is the coefficient matrix, $x$ vector of unknowns, and $b$ is a vector of the dependent variables.\n",
        "A solution can be found using\n",
        "\n",
        "$$\n",
        "\\begin{align*}\n",
        "A^{-1}Ax&=A^{-1}b\\\\\n",
        "x &= A^{-1}b.\n",
        "\\end{align*}\n",
        "$$\n",
        "\n",
        "---\n",
        "**Task 8 (medium): Solving linear equation systems👩‍💻**\n",
        "For each of the following sets of linear equations determine whether a unique solution exits. Recall that the determinant \n",
        "can be used to determine whether a matrix has an inverse:\n",
        "a)\n",
        "\n",
        "$$ \n",
        "\\begin{align*}\n",
        "2x + 3y  &= -1\\\\\n",
        "x + y  &= 0\\\\\n",
        "\\end{align*}\n",
        "$$\n",
        "b)\n",
        "\n",
        "$$\n",
        "\\begin{align*}\n",
        "1x + 0y  &= 5\\\\\n",
        "0x + 1y  &= 7\\\\\n",
        "\\end{align*}\n",
        "$$\n",
        "c)\n",
        "\n",
        "$$\n",
        "\\begin{align*}\n",
        "0x + y  &= -1\\\\\n",
        "-2x + -3y  &= 2\\\\\n",
        "\\end{align*}\n",
        "$$\n",
        "d)\n",
        "\n",
        "$$\n",
        "\\begin{align*}\n",
        "x + -3y + 3z &= 0.5\\\\\n",
        "x - 5y + 3z& = 0.5\\\\\n",
        "6z + -6y + 4x &= 1.\n",
        "\\end{align*}\n",
        "$$\n",
        "e)\n",
        "\n",
        "$$\n",
        "\\begin{align*}\n",
        "2x + 3y + 4z &= 2\\\\\n",
        "x + 4z + y &= -2\\\\\n",
        "4z + 5y + 2x &= 3.\n",
        "\\end{align*}\n",
        "$$\n",
        "f)\n",
        "\n",
        "$$\n",
        "\\begin{align*}\n",
        "x + y + z &= 2\\\\\n",
        "2x + 2z + 2y &= -2\\\\\n",
        "3z + 3y + 3x &= 3.\n",
        "\\end{align*}\n",
        "$$\n",
        "\n",
        "---"
      ]
    },
    {
      "cell_type": "code",
      "execution_count": 41,
      "id": "Yn5fItg7xKQkRiMNcTKnH",
      "metadata": {},
      "outputs": [
        {
          "name": "stdout",
          "output_type": "stream",
          "text": [
            "Determinant of Matrix_A: -1.0\n",
            "Determinant of Matrix_B: 1.0\n"
          ]
        }
      ],
      "source": [
        "Matrix_A = np.array([\n",
        "    [2, 3],\n",
        "    [1, 1]\n",
        "])\n",
        "\n",
        "det_Matrix_A = np.linalg.det(Matrix_A)\n",
        "print(\"Determinant of Matrix_A:\", det_Matrix_A)\n",
        "\n",
        "Matrix_B = np.array([\n",
        "    [1, 0],\n",
        "    [0, 1]\n",
        "])\n",
        "det_Matrix_B = np.linalg.det(Matrix_B)\n",
        "print(\"Determinant of Matrix_B:\", det_Matrix_B)\n",
        "\n",
        "#NÅEDE HERTIL.\n",
        "\n",
        "Matrix_C = np.array([\n",
        "    [1, 2],\n",
        "    [3, 4]\n",
        "])\n",
        "det_Matrix_C = np.linalg.det(Matrix_C)\n",
        "print(\"Determinant of Matrix_C:\", det_Matrix_C)\n",
        "\n",
        "Matrix_D = np.array([\n",
        "    [4, 7],\n",
        "    [2, 6]\n",
        "])\n",
        "det_Matrix_D = np.linalg.det(Matrix_D)\n",
        "print(\"Determinant of Matrix_D:\", det_Matrix_D)\n",
        "\n",
        "Matrix_E = np.array([\n",
        "    [1, 2, 3],\n",
        "    [4, 5, 6],\n",
        "    [7, 8, 9]\n",
        "])\n",
        "det_Matrix_E = np.linalg.det(Matrix_E)\n",
        "print(\"Determinant of Matrix_E:\", det_Matrix_E)\n",
        "\n",
        "Matrix_F = np.array([\n",
        "    [1, 2, 3],\n",
        "    [4, 5, 6],\n",
        "    [7, 8, 9]\n",
        "])\n",
        "det_Matrix_F = np.linalg.det(Matrix_F)\n",
        "print(\"Determinant of Matrix_F:\", det_Matrix_F)"
      ]
    },
    {
      "cell_type": "markdown",
      "id": "lfhCpsmbU-jlVs42c24jV",
      "metadata": {},
      "source": [
        "## Matrix multiplication\n",
        "For an $N\\times D$ matrix $A$ and a $D\\times K$ matrix $B$, the \n",
        "matrix multiplication (or matrix product) is a new $N\\times K$ matrix $R$. Elements $R_{ij}$ of $R$ can be calculated \n",
        "using the following formula\n",
        "\n",
        "$$\n",
        "R_{ij} = \\sum_{d=1}^D A_{id}B_{dj}.\n",
        "$$\n",
        "In other words, it is the dot product of the $i$'th row vector of $A$ and the $j$'th column vector of $B$.\n",
        "\n",
        "---\n",
        "**Task 9 (medium): Implementing matrix multiplication _(optional)_👩‍💻**\n",
        "Implement matrix multiplication in the `matmul`\n",
        " function in the code cell below. You may use either Python lists or Numpy arrays, but the intention is to not use Numpy's built-in functions for matrix multiplication (i.e., `np.dot`\n",
        ", `@`\n",
        ", `np.matmul`\n",
        ", etc.). You may, however, use `np.dot`\n",
        " for the purpose of computing the inner product between row and column vectors.\n",
        "\n",
        "**Hint**\n",
        "It might be helpful to calculate the correct result by hand first, to make debugging easier.\n",
        "\n",
        "\n",
        "---"
      ]
    },
    {
      "cell_type": "code",
      "execution_count": 54,
      "id": "71zV9ItYsrR0iYBQzYWt7",
      "metadata": {},
      "outputs": [
        {
          "name": "stdout",
          "output_type": "stream",
          "text": [
            "Matrix multiplication result:\n",
            " [[ 33.   6.  26.]\n",
            " [ 78.  21.  77.]\n",
            " [123.  36. 128.]]\n",
            "Matrix multiplication result2:\n",
            " [[ 33   6  26]\n",
            " [ 78  21  77]\n",
            " [123  36 128]]\n",
            "Are they equal? True\n"
          ]
        }
      ],
      "source": [
        "def matmul(a, b):\n",
        "    N = a.shape[0]\n",
        "    D = a.shape[1]\n",
        "    K = b.shape[1]\n",
        "\n",
        "    result = np.zeros((N, K))\n",
        "\n",
        "    #Formula says, that result at index i,j is the sum of a[i, d] * b[d, j] for all d in range(D)\n",
        "    for i in range(N):\n",
        "        for j in range(K):\n",
        "            sum = 0\n",
        "            for d in range(D):\n",
        "                sum += a[i, d] * b[d, j]\n",
        "            result[i, j] = sum\n",
        "    return result\n",
        "        \n",
        "\n",
        "ma = np.array([\n",
        "    [1, 2, 3],\n",
        "    [4, 5, 6],\n",
        "    [7, 8, 9]\n",
        "])\n",
        "\n",
        "mb = np.array([\n",
        "    [5, 4, 9],\n",
        "    [2, 1, 7],\n",
        "    [8, 0, 1]\n",
        "])\n",
        "\n",
        "result = matmul(ma, mb)\n",
        "print(\"Matrix multiplication result:\\n\", result)\n",
        "\n",
        "result2 = np.matmul(ma, mb)\n",
        "print(\"Matrix multiplication result2:\\n\", result2)\n",
        "\n",
        "#Is equal:\n",
        "print(\"Are they equal?\", np.allclose(result, result2))"
      ]
    },
    {
      "cell_type": "markdown",
      "id": "E72n71GSF-j-pqJR7r68i",
      "metadata": {},
      "source": [
        "---\n"
      ]
    }
  ],
  "metadata": {
    "kernelspec": {
      "display_name": "Python",
      "language": "python3",
      "name": "python3"
    },
    "language_info": {
      "codemirror_mode": {
        "name": "ipython",
        "version": 3
      },
      "file_extension": ".py",
      "mimetype": "text/x-python",
      "name": "python",
      "nbconvert_exporter": "python",
      "pygments_lexer": "ipython3",
      "version": "3.10.14"
    }
  },
  "nbformat": 4,
  "nbformat_minor": 5
}
