{
  "cells": [
    {
      "cell_type": "code",
      "execution_count": 6,
      "id": "css_setup",
      "metadata": {
        "jupyter": {
          "source_hidden": true
        }
      },
      "outputs": [],
      "source": [
        "import requests\n",
        "from IPython.core.display import HTML\n",
        "#HTML(f\"\"\"\n",
        "#<style>\n",
        "#@import \"https://cdn.jsdelivr.net/npm/bulma@0.9.4/css/bulma.min.css\";\n",
        "#</style>\n",
        "#\"\"\")"
      ]
    },
    {
      "cell_type": "markdown",
      "id": "w3ySx0lN5Ha84UlIn3-TM",
      "metadata": {},
      "source": [
        "# Data analysis, manipulation and plotting\n",
        "\n",
        "**Info**\n",
        "The tutorials may contain small exercises and these are all optional.\n",
        "\n",
        "## Introduction\n",
        "This tutorial will cover the following topics:\n",
        "1. Introduction to arrays and vectors in numpy.\n",
        "\n",
        "2. Loading/Saving data. \n",
        "\n",
        "3. Essential methods for data analysis/manipulation. \n",
        "\n",
        "4. Elementary plotting using matplotlib.\n",
        "\n",
        "\n",
        "Run the cell below to import Numpy and Matplotlib:\n"
      ]
    },
    {
      "cell_type": "code",
      "execution_count": 7,
      "id": "0L7_-qSK4XvtnO1bHI96E",
      "metadata": {},
      "outputs": [],
      "source": [
        "#Import necessary libraries \n",
        "import numpy as np\n",
        "import matplotlib.pyplot as plt"
      ]
    },
    {
      "cell_type": "markdown",
      "id": "4hQDxqCvuwp01APKgA84r",
      "metadata": {},
      "source": [
        "### Creating data in numpy\n",
        "#### Numpy arrays\n",
        "Numpy has several convenient functions for creation of arrays. The following are especially useful for this course (read more about array creation [here](https://numpy.org/doc/stable/user/basics.creation.html#array-creation)\n",
        "):\n",
        "- [`np.ones(size)`\n",
        "](https://numpy.org/doc/stable/reference/generated/numpy.ones.html<elem-3>.ones)\n",
        ", [`np.zeros(size)`\n",
        "](https://numpy.org/doc/stable/reference/generated/numpy.zeros.html)\n",
        ": Creates an array of size `size`\n",
        " with either all ones or zeros.\n",
        "- [`np.linspace(start, stop, num)`\n",
        "](https://numpy.org/doc/stable/reference/generated/numpy.linspace.html<elem-7>.linspace)\n",
        ", [`np.arange(start, stop, step)`\n",
        "](https://numpy.org/doc/stable/reference/generated/numpy.arange.html#numpy-arange)\n",
        ": Creates 1d arrays of ranges from `start`\n",
        " to `stop`\n",
        " (inclusive) using either interpolation to create `num`\n",
        " elements in the case of `linspace`\n",
        " or using a certain `step`\n",
        "-size in `arange`\n",
        ".\n",
        "- [`np.random.uniform(size)`\n",
        "](https://numpy.org/doc/stable/reference/random/generated/numpy.random.uniform.html<elem-16>.random.uniform)\n",
        ", [`np.random.normal(loc, scale, size)`\n",
        "](https://numpy.org/doc/stable/reference/random/generated/numpy.random.normal.html<elem-18>.random.normal)\n",
        ": Creates arrays with random elements drawn either from a uniform or normal/Gaussian distribution. For the gaussian, `loc`\n",
        "=$\\mu$ (mean) and `scale`\n",
        "=$\\sigma$ (standard deviation).\n",
        "\n",
        "Don't worry about memorizing them for now. \n",
        "The cell below shows a few samples of their use:\n"
      ]
    },
    {
      "cell_type": "code",
      "execution_count": 8,
      "id": "5yEGronHxegh90gjEv8f2",
      "metadata": {},
      "outputs": [
        {
          "name": "stdout",
          "output_type": "stream",
          "text": [
            "ones:\n",
            " [[1. 1. 1.]\n",
            " [1. 1. 1.]]\n",
            "zeros:\n",
            " [[0. 0.]\n",
            " [0. 0.]\n",
            " [0. 0.]]\n",
            "linspace:\n",
            " [ 0.   2.5  5.   7.5 10. ]\n",
            "arange:\n",
            " [0 2 4 6 8]\n",
            "uniform:\n",
            " [[0.87039563 0.18739742]\n",
            " [0.74304082 0.08108695]]\n",
            "normal:\n",
            " [[ 1.00137987 -0.02826835]\n",
            " [-0.37662406  0.11972931]]\n"
          ]
        }
      ],
      "source": [
        "a_ones = np.ones((2, 3)) # 2 by 3 array of ones. \n",
        "a_zeros = np.zeros((3, 2)) # 2 by 3 array of ones.\n",
        "a_linspace = np.linspace(0, 10, 5) ## creates an array of 5 numbers evenly spaced from 0 to 9 (10-1 # zero indexed).\n",
        "a_arange = np.arange(0, 10, 2) # creates arrays from 0 to 9 (max) with a stride of 2. since (10>9) the max value will be 8.\n",
        "a_uniform = np.random.uniform(size= (2, 2)) # creates a 2 by 2 array of \"random\" numbers drawn from a uniform distribution. \n",
        "a_normal = np.random.normal(size=(2, 2))  # creates a 2 by 2 array of \"random\" numbers drawn from a normal/gaussian distribution. \n",
        "\n",
        "print('ones:\\n', a_ones)\n",
        "print('zeros:\\n', a_zeros)\n",
        "print('linspace:\\n', a_linspace)\n",
        "print('arange:\\n', a_arange)\n",
        "print('uniform:\\n', a_uniform)\n",
        "print('normal:\\n', a_normal)"
      ]
    },
    {
      "cell_type": "markdown",
      "id": "oQ45ef7cGa_WlRcWfodeN",
      "metadata": {},
      "source": [
        "\n",
        "**Note**\n",
        "There is no need for iteration (i.e. loops) when creating arrays in numpy!\n",
        "\n",
        "## Saving arrays with numpy\n",
        "The following example shows how to save Numpy arrays. Numpy arrays can be stored in the following two formats:\n",
        "- [`np.save(save_path)`\n",
        "](https://numpy.org/doc/stable/reference/generated/numpy.save.html<elem-26>.save)\n",
        " stores the data as a compressed npy file.\n",
        "- [`np.savetxt(save_path)`\n",
        "](https://numpy.org/doc/stable/reference/generated/numpy.savetxt.html)\n",
        " stores the data as a (uncompressed txt-file).\n",
        "\n"
      ]
    },
    {
      "cell_type": "code",
      "execution_count": 9,
      "id": "VKxBP0cUO8c59X6jghBcr",
      "metadata": {},
      "outputs": [],
      "source": [
        "a_normal_50 = np.random.normal(size=(50,2))\n",
        "## Saving the array as a compressed npy file (numpy data format)\n",
        "np.save('./Data/RandomData.npy',a_normal_50) \n",
        "\n",
        "a_arange_50 = np.arange(0,100,2)\n",
        "np.save('./Data/StructuredData.npy',a_arange_50)\n",
        "\n",
        "#numpy can additionally save to as a txt-file (uncompressed) formats like.\n",
        "a_linspace_50 = np.linspace((1,2),(10,20),10)\n",
        "### saving data as a regular txt file, also possible to save as a csv file\n",
        "np.savetxt('./Data/Txt_file.txt',a_linspace_50)"
      ]
    },
    {
      "cell_type": "markdown",
      "id": "1aQiJI5HLlLnpo9VM2JFZ",
      "metadata": {},
      "source": [
        "## Loading data with numpy\n",
        "Numpy arrays can be loaded with the Numpy functions `np.load(path)`\n",
        " and `np.loadtxt(path)`\n",
        " as shown below:\n"
      ]
    },
    {
      "cell_type": "code",
      "execution_count": 10,
      "id": "J3zGVrcUKeQOnsx0vrwlA",
      "metadata": {},
      "outputs": [
        {
          "name": "stdout",
          "output_type": "stream",
          "text": [
            "A:\n",
            " [[ 0.2987852  -1.30997767]\n",
            " [-0.19981833 -0.22871817]\n",
            " [-1.29652245 -0.93069394]\n",
            " [ 0.31804316  0.02838737]\n",
            " [-0.7574126  -0.18429857]]\n",
            "B:\n",
            " [ 0  2  4  6  8 10 12 14 16 18]\n",
            "C:\n",
            " [[ 1.  2.]\n",
            " [ 2.  4.]\n",
            " [ 3.  6.]\n",
            " [ 4.  8.]\n",
            " [ 5. 10.]]\n"
          ]
        }
      ],
      "source": [
        "## Loading data stored as a compressed npy file (numpy data format)\n",
        "A = np.load('./Data/RandomData.npy') \n",
        "B = np.load('./Data/StructuredData.npy')\n",
        "\n",
        "#load data stored as a txt/ (csv) file (uncompressed) formats like.\n",
        "C = np.loadtxt('./Data/Txt_file.txt')\n",
        "\n",
        "# Note A[:N] is only a slice i.e. the first N elements of A\n",
        "print('A:\\n',A[:5])\n",
        "print('B:\\n',B[:10])\n",
        "print('C:\\n',C[:5])"
      ]
    },
    {
      "cell_type": "markdown",
      "id": "rVGhWfbcVkwGnq_aBJ9ok",
      "metadata": {},
      "source": [
        "## Operate along dimensions\n",
        "Numpy arrays are often used to handle multidimensional data. In these instances you may want to perform operations along only one or some of the array axes.\n",
        "### Example: Mean\n",
        "In this example, we calculate the average of $N$ random vectors. \n",
        "The cell below defines an $N\\times K$ matrix of random values:\n"
      ]
    },
    {
      "cell_type": "code",
      "execution_count": 11,
      "id": "K4cOsl8-xiZpAwYn6iWMJ",
      "metadata": {},
      "outputs": [],
      "source": [
        "N, K = 20, 10\n",
        "r = np.random.uniform(size=(N, K))"
      ]
    },
    {
      "cell_type": "markdown",
      "id": "9aqy70Hs2Pu8tibdOXWmn",
      "metadata": {},
      "source": [
        "The Numpy function `np.mean`\n",
        " calculates averages over Numpy arrays. The `axis`\n",
        " argument specifies the direction ($0$ for rows or $1$ for columns) of the calculation. This is demonstrated in the cell below:\n"
      ]
    },
    {
      "cell_type": "code",
      "execution_count": 12,
      "id": "eb7tJUscaEdrnTfzWWwS0",
      "metadata": {},
      "outputs": [
        {
          "data": {
            "text/plain": [
              "array([0.52068073, 0.44048745, 0.48334933, 0.40742206, 0.47672023,\n",
              "       0.51086859, 0.5435847 , 0.52267873, 0.33902897, 0.545325  ])"
            ]
          },
          "execution_count": 12,
          "metadata": {},
          "output_type": "execute_result"
        }
      ],
      "source": [
        "np.mean(r, axis=0)"
      ]
    },
    {
      "cell_type": "markdown",
      "id": "rQOhF6xhAptOo4KeImg4j",
      "metadata": {},
      "source": [
        "\n",
        "**Tip**\n",
        "The `axis`\n",
        " argument is supported by most of Numpy's functions, including `sum`\n",
        " and `sqrt`\n",
        ".\n",
        "\n",
        "## Essential Numpy array methods for data analysis and manipulation\n",
        "The next section covers essential methods for data analysis and manipulation. The methods will be used abundantly throughout the course and are worth paying careful attention to.\n",
        "- [`np.mean(Array,dim)`\n",
        "](https://numpy.org/doc/stable/reference/generated/numpy.mean.html)\n",
        ", [`np.std(Array,dim)`\n",
        "](https://numpy.org/doc/stable/reference/generated/numpy.std.html)\n",
        ": Calculate the mean value of a given Numpy array of numbers (`floats`\n",
        " or `integers`\n",
        ").\n",
        "- `a.shape`\n",
        ": Finds the shape (dimensionality of a given data array), `Len(list/Array)`\n",
        " provides the length of the first list/Array dimension.\n",
        "- **Slicing:** using the `:`\n",
        " operator can create slices of an array `A`\n",
        " as `A[start:stop:step]`\n",
        ". Read more in the official guide [here](https://numpy.org/doc/stable/user/basics.indexing.html)\n",
        ".\n",
        "- **Broadcasting:** Is used in Numpy to perform operations between arrays of different size. Read more in the official guide [here](https://numpy.org/doc/stable/user/basics.broadcasting.html)\n",
        ".\n",
        "- **Elementwise addition and multiplication**\n",
        "- [`np.concatenate(Array list, axis)`\n",
        "](https://numpy.org/doc/stable/reference/generated/numpy.concatenate.html)\n",
        ": Stack numpy arrays along the direction of `axis`\n",
        ".\n",
        "\n",
        "Next, we consider a few examples to demonstrate the functionalities described above:\n"
      ]
    },
    {
      "cell_type": "code",
      "execution_count": 13,
      "id": "u_hrzK10AJF-4N_s1oSQn",
      "metadata": {},
      "outputs": [
        {
          "name": "stdout",
          "output_type": "stream",
          "text": [
            "A:\n",
            " [0. 1. 2. 3. 4. 5. 6. 7. 8. 9.]\n",
            "B:\n",
            " [[-16  15 -14  13]\n",
            " [-12  11 -10   9]\n",
            " [ -8   7  -6   5]\n",
            " [ -4   3  -2   1]]\n"
          ]
        }
      ],
      "source": [
        "A = np.linspace(0,9,10)\n",
        "\n",
        "B = np.array([\n",
        "    [-16, 15, -14, 13],\n",
        "    [-12, 11, -10, 9],\n",
        "    [-8, 7, -6, 5],\n",
        "    [-4, 3, -2, 1]\n",
        "])\n",
        "\n",
        "print('A:\\n',A)\n",
        "print('B:\\n',B)"
      ]
    },
    {
      "cell_type": "markdown",
      "id": "iXoKJt-G6u_vCGwx55iN3",
      "metadata": {},
      "source": []
    },
    {
      "cell_type": "code",
      "execution_count": 14,
      "id": "BiGW765xahkltHqLbqgIb",
      "metadata": {},
      "outputs": [
        {
          "name": "stdout",
          "output_type": "stream",
          "text": [
            "Mean A:\n",
            " 4.5\n",
            "Mean of using Array method:\n",
            " 4.5\n",
            "Std of A:\n",
            " 2.8722813232690143\n",
            "A sum:\n",
            " 45.0\n",
            "A shape:\n",
            " (10,)\n",
            "B shape:\n",
            " (4, 4)\n",
            "Concatenation of A and Slice of B matrix:\n",
            " [  0.   1.   2.   3.   4.   5.   6.   7.   8.   9. -16.  15. -14.  13.]\n"
          ]
        }
      ],
      "source": [
        "### Mean of an array \n",
        "# Using/calling the mean method from the Numpy library to determine the mean of the loaded data.\n",
        "print('Mean A:\\n',np.mean(A)) \n",
        "\n",
        "# Most Numpy array manipulation methods can additionally be called from an array object\n",
        "print('Mean of using Array method:\\n',A.mean())\n",
        "\n",
        "### Std of an array \n",
        "print('Std of A:\\n',np.std(A))\n",
        "\n",
        "### Sum of an array \n",
        "print('A sum:\\n', np.sum(A))\n",
        "\n",
        "### shape (size) of an array\n",
        "print('A shape:\\n',A.shape)\n",
        "print('B shape:\\n',B.shape)\n",
        "\n",
        "## np.concatenation([A,B]) example\n",
        "print('Concatenation of A and Slice of B matrix:\\n',np.concatenate([A,B[0,:]],axis=0))"
      ]
    },
    {
      "cell_type": "markdown",
      "id": "S7QoxF_1UETjV45p9PUSa",
      "metadata": {},
      "source": [
        "## Slicing of arrays\n"
      ]
    },
    {
      "cell_type": "code",
      "execution_count": 15,
      "id": "twa54enedkkRBa4ZAuF9d",
      "metadata": {},
      "outputs": [
        {
          "name": "stdout",
          "output_type": "stream",
          "text": [
            "[-16 -12  -8  -4]\n",
            "[0. 1. 2. 3. 4.]\n",
            "A[5:], A array except the first 5:\n",
            " [5. 6. 7. 8. 9.]\n",
            "A[:-5], A array except the last 5:\n",
            " [0. 1. 2. 3. 4.]\n",
            "A[1::2] array of every second elemt of A starting from the second:\n",
            " [1. 3. 5. 7. 9.]\n"
          ]
        }
      ],
      "source": [
        "### Slicing of array\n",
        "print(B[:,0])\n",
        "\n",
        "print(A[:5])\n",
        "print('A[5:], A array except the first 5:\\n',A[5:])\n",
        "\n",
        "print('A[:-5], A array except the last 5:\\n', A[:-5])\n",
        "\n",
        "print('A[1::2] array of every second elemt of A starting from the second:\\n',A[1::2])"
      ]
    },
    {
      "cell_type": "markdown",
      "id": "Hh181_szQOBHIwTcF9gAw",
      "metadata": {},
      "source": [
        "## Array Arithmetic\n"
      ]
    },
    {
      "cell_type": "code",
      "execution_count": 16,
      "id": "_UJRQ_7FXnqgcPxLA9MqJ",
      "metadata": {},
      "outputs": [
        {
          "name": "stdout",
          "output_type": "stream",
          "text": [
            "Adding a slice of A shape (4,) to B shape (4,4) using broadcasting:\n",
            " [[-16.  16. -12.  16.]\n",
            " [-12.  12.  -8.  12.]\n",
            " [ -8.   8.  -4.   8.]\n",
            " [ -4.   4.   0.   4.]]\n",
            "Adding constant to A (10,) using broadcasting:\n",
            " [10. 11. 12. 13. 14. 15. 16. 17. 18. 19.]\n",
            "Adding single element array (shape (1,)) to B (shape (4,4)) using broadcasting:\n",
            " [[-6 25 -4 23]\n",
            " [-2 21  0 19]\n",
            " [ 2 17  4 15]\n",
            " [ 6 13  8 11]]\n",
            "Elementwise multiplication of a slice of A (shape (4,)) to B (shape (4,4)) using broadcasting:\n",
            " [[ -0.  15. -28.  39.]\n",
            " [ -0.  11. -20.  27.]\n",
            " [ -0.   7. -12.  15.]\n",
            " [ -0.   3.  -4.   3.]]\n",
            "Elementwise division of a slice of B (shape (4,)) and A (shape (4,)):\n",
            " [-16.           7.5         -4.66666667   3.25      ]\n"
          ]
        }
      ],
      "source": [
        "### Adding of array\n",
        "print('Adding a slice of A shape (4,) to B shape (4,4) using broadcasting:\\n',A[:4]+B)\n",
        "\n",
        "print('Adding constant to A (10,) using broadcasting:\\n',A+10)\n",
        "print('Adding single element array (shape (1,)) to B (shape (4,4)) using broadcasting:\\n',B  + np.array([10]))\n",
        "\n",
        "### Elementwise multiplication of arrayLoading\n",
        "print('Elementwise multiplication of a slice of A (shape (4,)) to B (shape (4,4)) using broadcasting:\\n',A[:4]*B)\n",
        "\n",
        "### Add division example\n",
        "print('Elementwise division of a slice of B (shape (4,)) and A (shape (4,)):\\n',B[0,:]/A[1:5])"
      ]
    },
    {
      "cell_type": "markdown",
      "id": "QeJn7_-2EXU64X297psOv",
      "metadata": {},
      "source": [
        "## Comparison operators\n",
        "Just as the elementwise arithmetic operators, Numpy implements elementwise comparison operators (see the [official guide](https://numpy.org/doc/stable/user/basics.indexing.html#boolean-array-indexing)\n",
        " for additional detail). For example, to find all elements of `vr`\n",
        " larger than $98$, write: \n"
      ]
    },
    {
      "cell_type": "code",
      "execution_count": 17,
      "id": "g33n2Q1T3MQbLKOYlbJ-4",
      "metadata": {},
      "outputs": [
        {
          "data": {
            "text/plain": [
              "array([False,  True, False, False, False, False,  True])"
            ]
          },
          "execution_count": 17,
          "metadata": {},
          "output_type": "execute_result"
        }
      ],
      "source": [
        "vr = np.array([0, 99, 5, 70, 24, 1, 200]) # Create array of random values\n",
        "vr > 98"
      ]
    },
    {
      "cell_type": "markdown",
      "id": "mhHk-tq9flW_D7dmBgJ5T",
      "metadata": {},
      "source": [
        "This boolean array can be used to select elements from a Numpy array:\n"
      ]
    },
    {
      "cell_type": "code",
      "execution_count": 18,
      "id": "7SzvyrpslkVdfEd-EWxLX",
      "metadata": {},
      "outputs": [
        {
          "data": {
            "text/plain": [
              "array([ 99, 200])"
            ]
          },
          "execution_count": 18,
          "metadata": {},
          "output_type": "execute_result"
        }
      ],
      "source": [
        "comparison = vr > 98\n",
        "vr[comparison]"
      ]
    },
    {
      "cell_type": "markdown",
      "id": "d1sFg45GiI4StIuGJ7h9J",
      "metadata": {},
      "source": [
        "Boolean arrays can be combined by using the logical operators `&`\n",
        " and `|`\n",
        ":\n"
      ]
    },
    {
      "cell_type": "code",
      "execution_count": 19,
      "id": "3nyYAH9ljBhpU40Yj55kC",
      "metadata": {},
      "outputs": [
        {
          "data": {
            "text/plain": [
              "array([  0,  99,   1, 200])"
            ]
          },
          "execution_count": 19,
          "metadata": {},
          "output_type": "execute_result"
        }
      ],
      "source": [
        "vr[(vr < 2) | (vr > 98)]"
      ]
    },
    {
      "cell_type": "markdown",
      "id": "soMMEL4ZiuYmkmyjYAKoa",
      "metadata": {},
      "source": [
        "Boolean indexing can also be used for assignment:\n"
      ]
    },
    {
      "cell_type": "code",
      "execution_count": 20,
      "id": "z3H6zVLNJm-dRvjuqufw-",
      "metadata": {},
      "outputs": [
        {
          "data": {
            "text/plain": [
              "array([ 0,  0,  5,  0, 24,  1,  0])"
            ]
          },
          "execution_count": 20,
          "metadata": {},
          "output_type": "execute_result"
        }
      ],
      "source": [
        "vr[vr > 50] = 0\n",
        "vr"
      ]
    },
    {
      "cell_type": "markdown",
      "id": "8deUbPB6zNGLc2SDG1nwo",
      "metadata": {},
      "source": [
        "## Basics plotting with matplotlib\n",
        "Matplotlib contains an API for creating and manipulating plots using functions.\n",
        "`plot`\n",
        " and `scatter`\n",
        " will be the most frequently used functions in this course:\n",
        "- [`plot`\n",
        "](https://matplotlib.org/stable/plot_types/basic/plot.html#sphx-glr-plot-types-basic-plot-py)\n",
        " is typically used for creating connected line segments described by x and y data.\n",
        "- [`scatter`\n",
        "](https://matplotlib.org/stable/plot_types/basic/scatter_plot.html#sphx-glr-plot-types-basic-scatter-plot-py)\n",
        " is used for plotting individual points, e.g. from a dataset.\n",
        "\n",
        "### Line plot\n",
        "Take a look at the following sample plot code and output:\n"
      ]
    },
    {
      "cell_type": "code",
      "execution_count": 21,
      "id": "JGlroV7nL60GjpcMKN9Mi",
      "metadata": {},
      "outputs": [
        {
          "data": {
            "image/png": "[encoded data removed]",
            "text/plain": [
              "<Figure size 640x480 with 1 Axes>"
            ]
          },
          "metadata": {},
          "output_type": "display_data"
        }
      ],
      "source": [
        "x_range = np.linspace(0, 5, 50) # Creates an array of linearly spaced elements\n",
        "y_linear = x_range + 3 # adding to constant to the numpy array (broadcasting)\n",
        "y_quadratic = x_range**2 # elementwise exponetiation\n",
        "y_exp = np.exp(x_range) # exponential function applied elemtwise to x_range\n",
        "\n",
        "plt.plot(x_range, y_linear)\n",
        "plt.plot(x_range, y_quadratic)\n",
        "plt.plot(x_range,y_exp);"
      ]
    },
    {
      "cell_type": "markdown",
      "id": "_ZdLKxd75xWreuMZS0cya",
      "metadata": {},
      "source": [
        "### Scatter plot\n",
        "Scatter plots are two-dimensional plots of individual points. The example below creates a quadratic function, adds normally distributed random noise to it, and plots both the original (with [`plt.plot`\n",
        "](https://matplotlib.org/stable/api/_as_gen/matplotlib.axes.Axes.plot.html)\n",
        ") and the noisy points (with [`plt.scatter`\n",
        "](https://matplotlib.org/stable/api/_as_gen/matplotlib.axes.Axes.scatter.html#)\n",
        ").\n"
      ]
    },
    {
      "cell_type": "code",
      "execution_count": 22,
      "id": "q9WUMwxeqml8kVyEjig0u",
      "metadata": {},
      "outputs": [
        {
          "data": {
            "image/png": "[encoded data removed]",
            "text/plain": [
              "<Figure size 640x480 with 1 Axes>"
            ]
          },
          "metadata": {},
          "output_type": "display_data"
        }
      ],
      "source": [
        "x_range = np.linspace(-10, 10, 50) # Create the x-values for the plot\n",
        "y_values = x_range**2 # Calculate the y-values for the quadratic\n",
        "\n",
        "noise = np.random.normal(scale=5, size=50) # Create random noise\n",
        "y_noise = y_values + noise # Add the noise to the y-values\n",
        "\n",
        "plt.plot(x_range, y_values) # Plot the quadratic function\n",
        "plt.scatter(x_range, y_noise); # Plot the noisy points"
      ]
    },
    {
      "cell_type": "markdown",
      "id": "Sdl8f1QzQ-GbmC_u3tSXw",
      "metadata": {},
      "source": [
        "## Styling\n",
        "Matplotlib allows customization of plots. Some useful functionality is described below:\n",
        "- [`plt.plot`\n",
        "](https://matplotlib.org/stable/api/_as_gen/matplotlib.axes.Axes.plot.html)\n",
        " takes a third argument, `format`\n",
        ", which is used to adapt the styling of lines. Generally, a letter designating a color (e.g. `r`\n",
        ",`g`\n",
        ",`b`\n",
        ") and a symbol designating line or point style (e.g. `+`\n",
        ", `--`\n",
        ") are combined to produce a format, e.g. `r+`\n",
        " to create red crosses.\n",
        "- [`plt.scatter`\n",
        "](https://matplotlib.org/stable/api/_as_gen/matplotlib.axes.Axes.scatter.html#)\n",
        " takes an argument `c`\n",
        " for the color (can be letter form or complete color names) and an argument `marker`\n",
        " for the marker style (e.g. `+`\n",
        ", `o`\n",
        ").\n",
        "\n",
        "Here is a basic example:\n"
      ]
    },
    {
      "cell_type": "code",
      "execution_count": 23,
      "id": "qvtzDtb6MjYZskYN2If79",
      "metadata": {},
      "outputs": [
        {
          "data": {
            "image/png": "[encoded data removed]",
            "text/plain": [
              "<Figure size 640x480 with 1 Axes>"
            ]
          },
          "metadata": {},
          "output_type": "display_data"
        }
      ],
      "source": [
        "plt.plot(x_range, y_values, 'r--')\n",
        "plt.scatter(x_range, y_noise, c='green', marker='d');"
      ]
    },
    {
      "cell_type": "markdown",
      "id": "dpcnKH6URJIqikmJ-or2W",
      "metadata": {},
      "source": [
        "### Advanced styling\n",
        "Matplotlib automatically assigns colors to lines and point series using an internally defined `style`\n",
        ", however, you can change colors manually. The current style can be changed permanently using [`plt.style.use(style)`\n",
        "](https://matplotlib.org/stable/api/style_api.html<elem-88>.style.use)\n",
        " or inside a `with`\n",
        " block using `plt.style.context(style)`\n",
        ". A reference of built-in style-sheets can be found [here](https://matplotlib.org/stable/gallery/style_sheets/style_sheets_reference.html)\n",
        ". The cell below shows an example:\n"
      ]
    },
    {
      "cell_type": "code",
      "execution_count": 24,
      "id": "XwVW1Xj1ZZbQRo4FKq7Nb",
      "metadata": {},
      "outputs": [
        {
          "ename": "OSError",
          "evalue": "'seaborn' is not a valid package style, path of style file, URL of style file, or library style name (library styles are listed in `style.available`)",
          "output_type": "error",
          "traceback": [
            "\u001b[1;31m---------------------------------------------------------------------------\u001b[0m",
            "\u001b[1;31mFileNotFoundError\u001b[0m                         Traceback (most recent call last)",
            "File \u001b[1;32mc:\\Users\\jgrum\\.conda\\envs\\iml\\lib\\site-packages\\matplotlib\\style\\core.py:137\u001b[0m, in \u001b[0;36muse\u001b[1;34m(style)\u001b[0m\n\u001b[0;32m    136\u001b[0m \u001b[38;5;28;01mtry\u001b[39;00m:\n\u001b[1;32m--> 137\u001b[0m     style \u001b[38;5;241m=\u001b[39m \u001b[43m_rc_params_in_file\u001b[49m\u001b[43m(\u001b[49m\u001b[43mstyle\u001b[49m\u001b[43m)\u001b[49m\n\u001b[0;32m    138\u001b[0m \u001b[38;5;28;01mexcept\u001b[39;00m \u001b[38;5;167;01mOSError\u001b[39;00m \u001b[38;5;28;01mas\u001b[39;00m err:\n",
            "File \u001b[1;32mc:\\Users\\jgrum\\.conda\\envs\\iml\\lib\\site-packages\\matplotlib\\__init__.py:870\u001b[0m, in \u001b[0;36m_rc_params_in_file\u001b[1;34m(fname, transform, fail_on_error)\u001b[0m\n\u001b[0;32m    869\u001b[0m rc_temp \u001b[38;5;241m=\u001b[39m {}\n\u001b[1;32m--> 870\u001b[0m \u001b[38;5;28;01mwith\u001b[39;00m _open_file_or_url(fname) \u001b[38;5;28;01mas\u001b[39;00m fd:\n\u001b[0;32m    871\u001b[0m     \u001b[38;5;28;01mtry\u001b[39;00m:\n",
            "File \u001b[1;32mc:\\Users\\jgrum\\.conda\\envs\\iml\\lib\\contextlib.py:135\u001b[0m, in \u001b[0;36m_GeneratorContextManager.__enter__\u001b[1;34m(self)\u001b[0m\n\u001b[0;32m    134\u001b[0m \u001b[38;5;28;01mtry\u001b[39;00m:\n\u001b[1;32m--> 135\u001b[0m     \u001b[38;5;28;01mreturn\u001b[39;00m \u001b[38;5;28;43mnext\u001b[39;49m\u001b[43m(\u001b[49m\u001b[38;5;28;43mself\u001b[39;49m\u001b[38;5;241;43m.\u001b[39;49m\u001b[43mgen\u001b[49m\u001b[43m)\u001b[49m\n\u001b[0;32m    136\u001b[0m \u001b[38;5;28;01mexcept\u001b[39;00m \u001b[38;5;167;01mStopIteration\u001b[39;00m:\n",
            "File \u001b[1;32mc:\\Users\\jgrum\\.conda\\envs\\iml\\lib\\site-packages\\matplotlib\\__init__.py:847\u001b[0m, in \u001b[0;36m_open_file_or_url\u001b[1;34m(fname)\u001b[0m\n\u001b[0;32m    846\u001b[0m fname \u001b[38;5;241m=\u001b[39m os\u001b[38;5;241m.\u001b[39mpath\u001b[38;5;241m.\u001b[39mexpanduser(fname)\n\u001b[1;32m--> 847\u001b[0m \u001b[38;5;28;01mwith\u001b[39;00m \u001b[38;5;28;43mopen\u001b[39;49m\u001b[43m(\u001b[49m\u001b[43mfname\u001b[49m\u001b[43m,\u001b[49m\u001b[43m \u001b[49m\u001b[43mencoding\u001b[49m\u001b[38;5;241;43m=\u001b[39;49m\u001b[38;5;124;43m'\u001b[39;49m\u001b[38;5;124;43mutf-8\u001b[39;49m\u001b[38;5;124;43m'\u001b[39;49m\u001b[43m)\u001b[49m \u001b[38;5;28;01mas\u001b[39;00m f:\n\u001b[0;32m    848\u001b[0m     \u001b[38;5;28;01myield\u001b[39;00m f\n",
            "\u001b[1;31mFileNotFoundError\u001b[0m: [Errno 2] No such file or directory: 'seaborn'",
            "\nThe above exception was the direct cause of the following exception:\n",
            "\u001b[1;31mOSError\u001b[0m                                   Traceback (most recent call last)",
            "Cell \u001b[1;32mIn[24], line 5\u001b[0m\n\u001b[0;32m      2\u001b[0m xs, ys \u001b[38;5;241m=\u001b[39m np\u001b[38;5;241m.\u001b[39mrandom\u001b[38;5;241m.\u001b[39mnormal(size\u001b[38;5;241m=\u001b[39m(\u001b[38;5;241m2\u001b[39m, \u001b[38;5;241m100\u001b[39m))\n\u001b[0;32m      3\u001b[0m xu, yu \u001b[38;5;241m=\u001b[39m np\u001b[38;5;241m.\u001b[39mrandom\u001b[38;5;241m.\u001b[39muniform(size\u001b[38;5;241m=\u001b[39m(\u001b[38;5;241m2\u001b[39m,\u001b[38;5;241m100\u001b[39m))\n\u001b[1;32m----> 5\u001b[0m \u001b[38;5;28;01mwith\u001b[39;00m plt\u001b[38;5;241m.\u001b[39mstyle\u001b[38;5;241m.\u001b[39mcontext(\u001b[38;5;124m'\u001b[39m\u001b[38;5;124mseaborn\u001b[39m\u001b[38;5;124m'\u001b[39m):\n\u001b[0;32m      6\u001b[0m     plt\u001b[38;5;241m.\u001b[39mscatter(xs, ys, marker\u001b[38;5;241m=\u001b[39m\u001b[38;5;124m'\u001b[39m\u001b[38;5;124m+\u001b[39m\u001b[38;5;124m'\u001b[39m)\n\u001b[0;32m      7\u001b[0m     plt\u001b[38;5;241m.\u001b[39mscatter(xu, yu, marker\u001b[38;5;241m=\u001b[39m\u001b[38;5;124m'\u001b[39m\u001b[38;5;124mx\u001b[39m\u001b[38;5;124m'\u001b[39m)\n",
            "File \u001b[1;32mc:\\Users\\jgrum\\.conda\\envs\\iml\\lib\\contextlib.py:135\u001b[0m, in \u001b[0;36m_GeneratorContextManager.__enter__\u001b[1;34m(self)\u001b[0m\n\u001b[0;32m    133\u001b[0m \u001b[38;5;28;01mdel\u001b[39;00m \u001b[38;5;28mself\u001b[39m\u001b[38;5;241m.\u001b[39margs, \u001b[38;5;28mself\u001b[39m\u001b[38;5;241m.\u001b[39mkwds, \u001b[38;5;28mself\u001b[39m\u001b[38;5;241m.\u001b[39mfunc\n\u001b[0;32m    134\u001b[0m \u001b[38;5;28;01mtry\u001b[39;00m:\n\u001b[1;32m--> 135\u001b[0m     \u001b[38;5;28;01mreturn\u001b[39;00m \u001b[38;5;28;43mnext\u001b[39;49m\u001b[43m(\u001b[49m\u001b[38;5;28;43mself\u001b[39;49m\u001b[38;5;241;43m.\u001b[39;49m\u001b[43mgen\u001b[49m\u001b[43m)\u001b[49m\n\u001b[0;32m    136\u001b[0m \u001b[38;5;28;01mexcept\u001b[39;00m \u001b[38;5;167;01mStopIteration\u001b[39;00m:\n\u001b[0;32m    137\u001b[0m     \u001b[38;5;28;01mraise\u001b[39;00m \u001b[38;5;167;01mRuntimeError\u001b[39;00m(\u001b[38;5;124m\"\u001b[39m\u001b[38;5;124mgenerator didn\u001b[39m\u001b[38;5;124m'\u001b[39m\u001b[38;5;124mt yield\u001b[39m\u001b[38;5;124m\"\u001b[39m) \u001b[38;5;28;01mfrom\u001b[39;00m \u001b[38;5;28;01mNone\u001b[39;00m\n",
            "File \u001b[1;32mc:\\Users\\jgrum\\.conda\\envs\\iml\\lib\\site-packages\\matplotlib\\style\\core.py:194\u001b[0m, in \u001b[0;36mcontext\u001b[1;34m(style, after_reset)\u001b[0m\n\u001b[0;32m    192\u001b[0m \u001b[38;5;28;01mif\u001b[39;00m after_reset:\n\u001b[0;32m    193\u001b[0m     mpl\u001b[38;5;241m.\u001b[39mrcdefaults()\n\u001b[1;32m--> 194\u001b[0m \u001b[43muse\u001b[49m\u001b[43m(\u001b[49m\u001b[43mstyle\u001b[49m\u001b[43m)\u001b[49m\n\u001b[0;32m    195\u001b[0m \u001b[38;5;28;01myield\u001b[39;00m\n",
            "File \u001b[1;32mc:\\Users\\jgrum\\.conda\\envs\\iml\\lib\\site-packages\\matplotlib\\style\\core.py:139\u001b[0m, in \u001b[0;36muse\u001b[1;34m(style)\u001b[0m\n\u001b[0;32m    137\u001b[0m         style \u001b[38;5;241m=\u001b[39m _rc_params_in_file(style)\n\u001b[0;32m    138\u001b[0m     \u001b[38;5;28;01mexcept\u001b[39;00m \u001b[38;5;167;01mOSError\u001b[39;00m \u001b[38;5;28;01mas\u001b[39;00m err:\n\u001b[1;32m--> 139\u001b[0m         \u001b[38;5;28;01mraise\u001b[39;00m \u001b[38;5;167;01mOSError\u001b[39;00m(\n\u001b[0;32m    140\u001b[0m             \u001b[38;5;124mf\u001b[39m\u001b[38;5;124m\"\u001b[39m\u001b[38;5;132;01m{\u001b[39;00mstyle\u001b[38;5;132;01m!r}\u001b[39;00m\u001b[38;5;124m is not a valid package style, path of style \u001b[39m\u001b[38;5;124m\"\u001b[39m\n\u001b[0;32m    141\u001b[0m             \u001b[38;5;124mf\u001b[39m\u001b[38;5;124m\"\u001b[39m\u001b[38;5;124mfile, URL of style file, or library style name (library \u001b[39m\u001b[38;5;124m\"\u001b[39m\n\u001b[0;32m    142\u001b[0m             \u001b[38;5;124mf\u001b[39m\u001b[38;5;124m\"\u001b[39m\u001b[38;5;124mstyles are listed in `style.available`)\u001b[39m\u001b[38;5;124m\"\u001b[39m) \u001b[38;5;28;01mfrom\u001b[39;00m \u001b[38;5;21;01merr\u001b[39;00m\n\u001b[0;32m    143\u001b[0m filtered \u001b[38;5;241m=\u001b[39m {}\n\u001b[0;32m    144\u001b[0m \u001b[38;5;28;01mfor\u001b[39;00m k \u001b[38;5;129;01min\u001b[39;00m style:  \u001b[38;5;66;03m# don't trigger RcParams.__getitem__('backend')\u001b[39;00m\n",
            "\u001b[1;31mOSError\u001b[0m: 'seaborn' is not a valid package style, path of style file, URL of style file, or library style name (library styles are listed in `style.available`)"
          ]
        }
      ],
      "source": [
        "# We create some normal and uniformly distributed noise. (random data i.e. not structured)\n",
        "xs, ys = np.random.normal(size=(2, 100))\n",
        "xu, yu = np.random.uniform(size=(2,100))\n",
        "\n",
        "with plt.style.context('seaborn'):\n",
        "    plt.scatter(xs, ys, marker='+')\n",
        "    plt.scatter(xu, yu, marker='x')"
      ]
    },
    {
      "cell_type": "markdown",
      "id": "Jy-DeZvz0890gR00_xBmv",
      "metadata": {},
      "source": [
        "## Labels, Title and Legend\n",
        "Legend, title, and axis labels can be added to plots using the following functions: \n",
        "- [`plt.legend(titles)`\n",
        "](https://matplotlib.org/stable/api/_as_gen/matplotlib.pyplot.legend.html)\n",
        ": Creates a legend using a list of `titles`\n",
        " for the names. Previously plotted elements are added in order.\n",
        "- [`plt.title(title)`\n",
        "](https://matplotlib.org/stable/api/_as_gen/matplotlib.pyplot.title.html)\n",
        ": Set plot title using string `title`\n",
        ". Use [`plt.suptitle`\n",
        "](https://matplotlib.org/stable/api/_as_gen/matplotlib.pyplot.suptitle.html)\n",
        " when adding a title to multiple plots.\n",
        "- [`plt.ylabel(name)`\n",
        "](https://matplotlib.org/stable/api/_as_gen/matplotlib.pyplot.ylabel.html)\n",
        "/[`plt.xlabel(name)`\n",
        "](https://matplotlib.org/stable/api/_as_gen/matplotlib.pyplot.xlabel.html)\n",
        ": Set plot axis labels.\n",
        "- [`plt.legend(label_list)`\n",
        "](https://matplotlib.org/stable/api/_as_gen/matplotlib.pyplot.legend.html)\n",
        ": Setting the data labels can be done with a label list or without input if labels are provided at each separate plot.\n",
        "\n"
      ]
    },
    {
      "cell_type": "code",
      "execution_count": null,
      "id": "5NwARBFsiWcu2WoAJ-eYg",
      "metadata": {},
      "outputs": [],
      "source": [
        "with plt.style.context('seaborn'):\n",
        "    plt.scatter(xs, ys, marker='+')\n",
        "    plt.scatter(xu, yu, marker='x')\n",
        "    plt.legend(['normal', 'uniform'])\n",
        "    \n",
        "    plt.title('Comparison of distributions')\n",
        "    plt.ylabel('Y')\n",
        "    plt.xlabel('X')"
      ]
    },
    {
      "cell_type": "markdown",
      "id": "niTV2LSYXh12dX3mSzZgS",
      "metadata": {},
      "source": [
        "## Making subplots\n",
        "Matplotlib makes it possible to combine multiple plots into one figure. The function [`plt.subplots`\n",
        "](https://matplotlib.org/stable/api/_as_gen/matplotlib.pyplot.subplots.html)\n",
        " creates a figure with multiple sub-plots. The function returns a _figure_ object and an array of _axes_ objects. The _axes_ objects are used to make plots in each subplot, add titles, and so forth. An example is shown in the cell below:\n"
      ]
    },
    {
      "cell_type": "code",
      "execution_count": null,
      "id": "TMd_6qMTCn49hY_Lbt6VV",
      "metadata": {},
      "outputs": [],
      "source": [
        "figure, axes = plt.subplots(2, 2, figsize=(7, 5))\n",
        "\n",
        "axes[0, 0].plot(x_range, y_linear)\n",
        "axes[0, 1].plot(x_range, y_quadratic)\n",
        "axes[1, 0].scatter(xs, ys)\n",
        "axes[1, 1].plot(x_range, y_values)\n",
        "axes[1, 1].scatter(x_range, y_noise);"
      ]
    },
    {
      "cell_type": "markdown",
      "id": "AUeuC0X_VcrKH-o4SJbEi",
      "metadata": {},
      "source": [
        "## Saving plots\n",
        "To save a plot, use [`plt.savefig(output_path)`\n",
        "](https://matplotlib.org/stable/api/_as_gen/matplotlib.pyplot.savefig.html)\n",
        " to save the last plot created. An example is provided below:\n"
      ]
    },
    {
      "cell_type": "code",
      "execution_count": null,
      "id": "khuI6HmRGyrhg7nKI9OmC",
      "metadata": {},
      "outputs": [],
      "source": [
        "plt.savefig('./outputs.pdf');"
      ]
    }
  ],
  "metadata": {
    "kernelspec": {
      "display_name": "Python",
      "language": "python3",
      "name": "python3"
    },
    "language_info": {
      "codemirror_mode": {
        "name": "ipython",
        "version": 3
      },
      "file_extension": ".py",
      "mimetype": "text/x-python",
      "name": "python",
      "nbconvert_exporter": "python",
      "pygments_lexer": "ipython3",
      "version": "3.10.14"
    }
  },
  "nbformat": 4,
  "nbformat_minor": 5
}
